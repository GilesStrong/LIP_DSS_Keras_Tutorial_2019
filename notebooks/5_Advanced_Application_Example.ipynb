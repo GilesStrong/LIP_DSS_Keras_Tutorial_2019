{
 "cells": [
  {
   "cell_type": "markdown",
   "metadata": {},
   "source": [
    "# Binary classification from CSV file with validation and test sets\n",
    "In this example we'll look at a more reaslistic example for applying neural networks: training a classifier to predict signal and background events using the data from the [HiggsML Kaggle challenge](https://www.kaggle.com/c/higgs-boson)\n",
    "1. Data is imported from CSV format\n",
    "1. Data is preprocessed\n",
    "1. A Neural network with multiple inputs is built and trained\n",
    "1. The resulting classifier is evaluated on validation data and test data\n",
    "1. The model is interpreted via feature importance\n",
    "\n",
    "We'll use the version of the data available from the [CERN OpenData portal](http://opendata.cern.ch/record/328?ln=en), however it is also available from [Kaggle](https://www.kaggle.com/c/higgs-boson). Alternatively, uncomment and run the cell below:"
   ]
  },
  {
   "cell_type": "code",
   "execution_count": 1,
   "metadata": {},
   "outputs": [],
   "source": [
    "#!mkdir data\n",
    "#!wget -O data/atlas-higgs-challenge-2014-v2.csv.gz http://opendata.cern.ch/record/328/files/atlas-higgs-challenge-2014-v2.csv.gz\n",
    "#!gunzip data/atlas-higgs-challenge-2014-v2.csv.gz"
   ]
  },
  {
   "cell_type": "markdown",
   "metadata": {},
   "source": [
    "### Basic Modules"
   ]
  },
  {
   "cell_type": "code",
   "execution_count": null,
   "metadata": {},
   "outputs": [],
   "source": [
    "!pip install rfpimp"
   ]
  },
  {
   "cell_type": "code",
   "execution_count": 2,
   "metadata": {},
   "outputs": [
    {
     "name": "stderr",
     "output_type": "stream",
     "text": [
      "Using TensorFlow backend.\n"
     ]
    }
   ],
   "source": [
    "%matplotlib inline\n",
    "%reload_ext autoreload\n",
    "%autoreload 2\n",
    "import pandas as pd\n",
    "import numpy as np\n",
    "import matplotlib.pyplot as plt\n",
    "import seaborn as sns\n",
    "from typing import List, Union, Optional, Tuple\n",
    "from rfpimp import importances\n",
    "from collections import OrderedDict\n",
    "import os\n",
    "\n",
    "import sklearn\n",
    "from sklearn.model_selection import train_test_split \n",
    "from sklearn.ensemble import RandomForestClassifier\n",
    "from sklearn.ensemble.forest import ForestRegressor\n",
    "from sklearn.metrics import roc_auc_score\n",
    "from sklearn.preprocessing import StandardScaler\n",
    "from sklearn.pipeline import Pipeline\n",
    "\n",
    "from keras.models import Model, Sequential\n",
    "from keras.layers import Dense, Activation, Dropout, BatchNormalization, Input, Embedding, Reshape, Concatenate\n",
    "from keras.optimizers import Adam\n",
    "from keras.callbacks import EarlyStopping, ModelCheckpoint"
   ]
  },
  {
   "cell_type": "code",
   "execution_count": 3,
   "metadata": {},
   "outputs": [],
   "source": [
    "from pathlib import Path\n",
    "PATH = Path('data/')"
   ]
  },
  {
   "cell_type": "markdown",
   "metadata": {},
   "source": [
    "## Data preparation"
   ]
  },
  {
   "cell_type": "markdown",
   "metadata": {},
   "source": [
    "### Data import from CSV file \n",
    "Read file into a pandas dataframe. Pandas is a great (and fast) module for dealing with columnar data."
   ]
  },
  {
   "cell_type": "code",
   "execution_count": 4,
   "metadata": {},
   "outputs": [],
   "source": [
    "data = pd.read_csv(PATH/'atlas-higgs-challenge-2014-v2.csv')"
   ]
  },
  {
   "cell_type": "code",
   "execution_count": 5,
   "metadata": {},
   "outputs": [
    {
     "data": {
      "text/html": [
       "<div>\n",
       "<style scoped>\n",
       "    .dataframe tbody tr th:only-of-type {\n",
       "        vertical-align: middle;\n",
       "    }\n",
       "\n",
       "    .dataframe tbody tr th {\n",
       "        vertical-align: top;\n",
       "    }\n",
       "\n",
       "    .dataframe thead th {\n",
       "        text-align: right;\n",
       "    }\n",
       "</style>\n",
       "<table border=\"1\" class=\"dataframe\">\n",
       "  <thead>\n",
       "    <tr style=\"text-align: right;\">\n",
       "      <th></th>\n",
       "      <th>EventId</th>\n",
       "      <th>DER_mass_MMC</th>\n",
       "      <th>DER_mass_transverse_met_lep</th>\n",
       "      <th>DER_mass_vis</th>\n",
       "      <th>DER_pt_h</th>\n",
       "      <th>DER_deltaeta_jet_jet</th>\n",
       "      <th>DER_mass_jet_jet</th>\n",
       "      <th>DER_prodeta_jet_jet</th>\n",
       "      <th>DER_deltar_tau_lep</th>\n",
       "      <th>DER_pt_tot</th>\n",
       "      <th>...</th>\n",
       "      <th>PRI_jet_leading_eta</th>\n",
       "      <th>PRI_jet_leading_phi</th>\n",
       "      <th>PRI_jet_subleading_pt</th>\n",
       "      <th>PRI_jet_subleading_eta</th>\n",
       "      <th>PRI_jet_subleading_phi</th>\n",
       "      <th>PRI_jet_all_pt</th>\n",
       "      <th>Weight</th>\n",
       "      <th>Label</th>\n",
       "      <th>KaggleSet</th>\n",
       "      <th>KaggleWeight</th>\n",
       "    </tr>\n",
       "  </thead>\n",
       "  <tbody>\n",
       "    <tr>\n",
       "      <th>0</th>\n",
       "      <td>100000</td>\n",
       "      <td>138.470</td>\n",
       "      <td>51.655</td>\n",
       "      <td>97.827</td>\n",
       "      <td>27.980</td>\n",
       "      <td>0.91</td>\n",
       "      <td>124.711</td>\n",
       "      <td>2.666</td>\n",
       "      <td>3.064</td>\n",
       "      <td>41.928</td>\n",
       "      <td>...</td>\n",
       "      <td>2.150</td>\n",
       "      <td>0.444</td>\n",
       "      <td>46.062</td>\n",
       "      <td>1.24</td>\n",
       "      <td>-2.475</td>\n",
       "      <td>113.497</td>\n",
       "      <td>0.000814</td>\n",
       "      <td>s</td>\n",
       "      <td>t</td>\n",
       "      <td>0.002653</td>\n",
       "    </tr>\n",
       "    <tr>\n",
       "      <th>1</th>\n",
       "      <td>100001</td>\n",
       "      <td>160.937</td>\n",
       "      <td>68.768</td>\n",
       "      <td>103.235</td>\n",
       "      <td>48.146</td>\n",
       "      <td>-999.00</td>\n",
       "      <td>-999.000</td>\n",
       "      <td>-999.000</td>\n",
       "      <td>3.473</td>\n",
       "      <td>2.078</td>\n",
       "      <td>...</td>\n",
       "      <td>0.725</td>\n",
       "      <td>1.158</td>\n",
       "      <td>-999.000</td>\n",
       "      <td>-999.00</td>\n",
       "      <td>-999.000</td>\n",
       "      <td>46.226</td>\n",
       "      <td>0.681042</td>\n",
       "      <td>b</td>\n",
       "      <td>t</td>\n",
       "      <td>2.233584</td>\n",
       "    </tr>\n",
       "    <tr>\n",
       "      <th>2</th>\n",
       "      <td>100002</td>\n",
       "      <td>-999.000</td>\n",
       "      <td>162.172</td>\n",
       "      <td>125.953</td>\n",
       "      <td>35.635</td>\n",
       "      <td>-999.00</td>\n",
       "      <td>-999.000</td>\n",
       "      <td>-999.000</td>\n",
       "      <td>3.148</td>\n",
       "      <td>9.336</td>\n",
       "      <td>...</td>\n",
       "      <td>2.053</td>\n",
       "      <td>-2.028</td>\n",
       "      <td>-999.000</td>\n",
       "      <td>-999.00</td>\n",
       "      <td>-999.000</td>\n",
       "      <td>44.251</td>\n",
       "      <td>0.715742</td>\n",
       "      <td>b</td>\n",
       "      <td>t</td>\n",
       "      <td>2.347389</td>\n",
       "    </tr>\n",
       "    <tr>\n",
       "      <th>3</th>\n",
       "      <td>100003</td>\n",
       "      <td>143.905</td>\n",
       "      <td>81.417</td>\n",
       "      <td>80.943</td>\n",
       "      <td>0.414</td>\n",
       "      <td>-999.00</td>\n",
       "      <td>-999.000</td>\n",
       "      <td>-999.000</td>\n",
       "      <td>3.310</td>\n",
       "      <td>0.414</td>\n",
       "      <td>...</td>\n",
       "      <td>-999.000</td>\n",
       "      <td>-999.000</td>\n",
       "      <td>-999.000</td>\n",
       "      <td>-999.00</td>\n",
       "      <td>-999.000</td>\n",
       "      <td>-0.000</td>\n",
       "      <td>1.660654</td>\n",
       "      <td>b</td>\n",
       "      <td>t</td>\n",
       "      <td>5.446378</td>\n",
       "    </tr>\n",
       "    <tr>\n",
       "      <th>4</th>\n",
       "      <td>100004</td>\n",
       "      <td>175.864</td>\n",
       "      <td>16.915</td>\n",
       "      <td>134.805</td>\n",
       "      <td>16.405</td>\n",
       "      <td>-999.00</td>\n",
       "      <td>-999.000</td>\n",
       "      <td>-999.000</td>\n",
       "      <td>3.891</td>\n",
       "      <td>16.405</td>\n",
       "      <td>...</td>\n",
       "      <td>-999.000</td>\n",
       "      <td>-999.000</td>\n",
       "      <td>-999.000</td>\n",
       "      <td>-999.00</td>\n",
       "      <td>-999.000</td>\n",
       "      <td>0.000</td>\n",
       "      <td>1.904263</td>\n",
       "      <td>b</td>\n",
       "      <td>t</td>\n",
       "      <td>6.245333</td>\n",
       "    </tr>\n",
       "  </tbody>\n",
       "</table>\n",
       "<p>5 rows × 35 columns</p>\n",
       "</div>"
      ],
      "text/plain": [
       "   EventId  DER_mass_MMC  DER_mass_transverse_met_lep  DER_mass_vis  DER_pt_h  \\\n",
       "0   100000       138.470                       51.655        97.827    27.980   \n",
       "1   100001       160.937                       68.768       103.235    48.146   \n",
       "2   100002      -999.000                      162.172       125.953    35.635   \n",
       "3   100003       143.905                       81.417        80.943     0.414   \n",
       "4   100004       175.864                       16.915       134.805    16.405   \n",
       "\n",
       "   DER_deltaeta_jet_jet  DER_mass_jet_jet  DER_prodeta_jet_jet  \\\n",
       "0                  0.91           124.711                2.666   \n",
       "1               -999.00          -999.000             -999.000   \n",
       "2               -999.00          -999.000             -999.000   \n",
       "3               -999.00          -999.000             -999.000   \n",
       "4               -999.00          -999.000             -999.000   \n",
       "\n",
       "   DER_deltar_tau_lep  DER_pt_tot      ...       PRI_jet_leading_eta  \\\n",
       "0               3.064      41.928      ...                     2.150   \n",
       "1               3.473       2.078      ...                     0.725   \n",
       "2               3.148       9.336      ...                     2.053   \n",
       "3               3.310       0.414      ...                  -999.000   \n",
       "4               3.891      16.405      ...                  -999.000   \n",
       "\n",
       "   PRI_jet_leading_phi  PRI_jet_subleading_pt  PRI_jet_subleading_eta  \\\n",
       "0                0.444                 46.062                    1.24   \n",
       "1                1.158               -999.000                 -999.00   \n",
       "2               -2.028               -999.000                 -999.00   \n",
       "3             -999.000               -999.000                 -999.00   \n",
       "4             -999.000               -999.000                 -999.00   \n",
       "\n",
       "   PRI_jet_subleading_phi  PRI_jet_all_pt    Weight  Label  KaggleSet  \\\n",
       "0                  -2.475         113.497  0.000814      s          t   \n",
       "1                -999.000          46.226  0.681042      b          t   \n",
       "2                -999.000          44.251  0.715742      b          t   \n",
       "3                -999.000          -0.000  1.660654      b          t   \n",
       "4                -999.000           0.000  1.904263      b          t   \n",
       "\n",
       "   KaggleWeight  \n",
       "0      0.002653  \n",
       "1      2.233584  \n",
       "2      2.347389  \n",
       "3      5.446378  \n",
       "4      6.245333  \n",
       "\n",
       "[5 rows x 35 columns]"
      ]
     },
     "execution_count": 5,
     "metadata": {},
     "output_type": "execute_result"
    }
   ],
   "source": [
    "data.head()"
   ]
  },
  {
   "cell_type": "markdown",
   "metadata": {},
   "source": [
    "We'll rename some of the columns (personally I like to have anything based generator level information prepended with 'gen'). We'll aslo cut down the training data to use only what was available for the challenge."
   ]
  },
  {
   "cell_type": "code",
   "execution_count": 6,
   "metadata": {},
   "outputs": [],
   "source": [
    "data.drop(columns=['Weight'], inplace=True)\n",
    "data['Label'] = data['Label'].map({'s':1, 'b':0})\n",
    "data.rename(index=str, columns={\"KaggleWeight\": \"gen_weight\", 'PRI_met': 'PRI_met_pt', 'Label':'gen_target'}, inplace=True)\n",
    "\n",
    "df = pd.DataFrame(data.loc[data.KaggleSet == 't'])\n",
    "df.drop(columns=['KaggleSet'], inplace=True)\n",
    "    \n",
    "test = pd.DataFrame(data.loc[(data.KaggleSet == 'b') | (data.KaggleSet == 'v')])\n",
    "test['private'] = 0\n",
    "test.loc[(data.KaggleSet == 'v'), 'private'] = 1\n",
    "test.drop(columns=['KaggleSet'], inplace=True)"
   ]
  },
  {
   "cell_type": "markdown",
   "metadata": {},
   "source": [
    "Lets check some of the features. The transverse mass can be expected to provide some decent separation betwee signal and background. Note how we can apply temporary cuts to the DataFrame and return individual columns."
   ]
  },
  {
   "cell_type": "code",
   "execution_count": 7,
   "metadata": {},
   "outputs": [
    {
     "name": "stderr",
     "output_type": "stream",
     "text": [
      "/Users/giles/anaconda3/lib/python3.6/site-packages/scipy/stats/stats.py:1713: FutureWarning: Using a non-tuple sequence for multidimensional indexing is deprecated; use `arr[tuple(seq)]` instead of `arr[seq]`. In the future this will be interpreted as an array index, `arr[np.array(seq)]`, which will result either in an error or a different result.\n",
      "  return np.add.reduce(sorted[indexer] * weights, axis=axis) / sumval\n",
      "/Users/giles/anaconda3/lib/python3.6/site-packages/matplotlib/axes/_axes.py:6521: MatplotlibDeprecationWarning: \n",
      "The 'normed' kwarg was deprecated in Matplotlib 2.1 and will be removed in 3.1. Use 'density' instead.\n",
      "  alternative=\"'density'\", removal=\"3.1\")\n",
      "/Users/giles/anaconda3/lib/python3.6/site-packages/matplotlib/axes/_axes.py:6521: MatplotlibDeprecationWarning: \n",
      "The 'normed' kwarg was deprecated in Matplotlib 2.1 and will be removed in 3.1. Use 'density' instead.\n",
      "  alternative=\"'density'\", removal=\"3.1\")\n"
     ]
    },
    {
     "data": {
      "image/png": "[encoded data removed]",
      "text/plain": [
       "<Figure size 432x288 with 1 Axes>"
      ]
     },
     "metadata": {},
     "output_type": "display_data"
    }
   ],
   "source": [
    "sns.distplot(df.loc[df.gen_target == 0, 'DER_mass_transverse_met_lep'], label='Bkg.')\n",
    "sns.distplot(df.loc[df.gen_target == 1, 'DER_mass_transverse_met_lep'], label='Sig.')\n",
    "plt.legend();"
   ]
  },
  {
   "cell_type": "markdown",
   "metadata": {},
   "source": [
    "So there is still quite a bit of overlap between the two classes. Let's hope our NN can improve things a bit."
   ]
  },
  {
   "cell_type": "markdown",
   "metadata": {},
   "source": [
    "### Preprocessing\n",
    "Having imported the data, we now need to further process it into form suitable for training the classifier.\n",
    "\n",
    "We can start by moving a Cartesian coordinate system; the HEP standard of $p_T,\\ \\eta,\\ \\phi$ can be a bit tricky, since $\\phi$ is cyclical in nature, and $\\eta$ is highly non-linear. Additionally, since the class of each event is invariant under transformations of the absolute orientation of each event, we can remove several symetries in the data by rotating each event to have the same orientation.\n",
    "\n",
    "`proc_event` has options to set all events to have `ref_vec_0` at $\\phi=0$ and be always in the positive $\\eta$ region. The remaining symmetry of transverse reflection can be fixed by setting `ref_vec_1` to be in the positive $\\phi$ region. The vectors can then transformed into Cartesian system via `use_cartesian` flag. The original vectors are automatically dropped, but can be kept if added to `keep_feat`. It can sometimes be useful to keep the absolute amount of $p_T^{\\mathrm{miss}}$, since this is now non-linear combination of $p_x^{\\mathrm{miss}}$ and $p_y^{\\mathrm{miss}}$.\n",
    "\n",
    "Additionally, we'll process the default values for missing jets (-999.0) to NaNs to avoid them biasing our preprocessing."
   ]
  },
  {
   "cell_type": "code",
   "execution_count": 8,
   "metadata": {},
   "outputs": [
    {
     "name": "stdout",
     "output_type": "stream",
     "text": [
      "['EventId', 'DER_mass_MMC', 'DER_mass_transverse_met_lep', 'DER_mass_vis', 'DER_pt_h', 'DER_deltaeta_jet_jet', 'DER_mass_jet_jet', 'DER_prodeta_jet_jet', 'DER_deltar_tau_lep', 'DER_pt_tot', 'DER_sum_pt', 'DER_pt_ratio_lep_tau', 'DER_met_phi_centrality', 'DER_lep_eta_centrality', 'PRI_tau_pt', 'PRI_tau_eta', 'PRI_tau_phi', 'PRI_lep_pt', 'PRI_lep_eta', 'PRI_lep_phi', 'PRI_met_pt', 'PRI_met_phi', 'PRI_met_sumet', 'PRI_jet_num', 'PRI_jet_leading_pt', 'PRI_jet_leading_eta', 'PRI_jet_leading_phi', 'PRI_jet_subleading_pt', 'PRI_jet_subleading_eta', 'PRI_jet_subleading_phi', 'PRI_jet_all_pt', 'gen_target', 'gen_weight']\n"
     ]
    }
   ],
   "source": [
    "print([f for f in df.columns])"
   ]
  },
  {
   "cell_type": "code",
   "execution_count": 9,
   "metadata": {},
   "outputs": [],
   "source": [
    "def delta_phi(arr_a:np.ndarray, arr_b:np.ndarray) -> float:\n",
    "    df = pd.DataFrame()\n",
    "    df['dphi'] = arr_b-arr_a\n",
    "    while len(df[df.dphi > np.pi]) > 0:  df.loc[df.dphi > np.pi, 'dphi']  -= 2*np.pi\n",
    "    while len(df[df.dphi < -np.pi]) > 0: df.loc[df.dphi < -np.pi, 'dphi'] += 2*np.pi\n",
    "    return df.dphi.values\n",
    "\n",
    "def fix_event_phi(df:pd.DataFrame, ref_vec:str) -> None:\n",
    "    '''Rotate event in phi such that ref_vec is at phi == 0'''\n",
    "    for v in get_vecs(df.columns):\n",
    "        if v != ref_vec: df[f'{v}_phi'] = delta_phi(df[f'{ref_vec}_phi'], df[f'{v}_phi'])\n",
    "    df[f'{ref_vec}_phi'] = 0\n",
    "\n",
    "def get_vecs(feats:List[str], strict:bool=True) -> List[str]:\n",
    "    '''Get list of vector from list of features.\n",
    "    if strict, return only vectors with all coordinates present in feature list'''\n",
    "    low = [f.lower() for f in feats]\n",
    "    all_vecs = [f for f in feats if (f.lower().endswith('_pt') or f.lower().endswith('_phi') or f.lower().endswith('_eta')) or \n",
    "                                    (f.lower().endswith('_px') or f.lower().endswith('_py')  or f.lower().endswith('_pz'))]\n",
    "    if not strict: return set([v[:v.rfind('_')] for v in all_vecs])\n",
    "    vecs = [v[:v.rfind('_')] for v in all_vecs if (f'{v[:v.rfind(\"_\")]}_pt'.lower() in low and f'{v[:v.rfind(\"_\")]}_phi'.lower() in low) or \n",
    "                                                  (f'{v[:v.rfind(\"_\")]}_px'.lower() in low and f'{v[:v.rfind(\"_\")]}_py'.lower()  in low)]\n",
    "    return set(vecs)\n",
    "\n",
    "def to_cartesian(df:pd.DataFrame, vec:str, drop:bool=False) -> None:\n",
    "    '''Convert vector to Cartesian coordinates inplace, optionally dropping old pT,eta,phi features'''\n",
    "    z = f'{vec}_eta' in df.columns\n",
    "    try:\n",
    "        pt = df[f'{vec}_pT']\n",
    "        pt_name = f'{vec}_pT'\n",
    "    except KeyError:\n",
    "        pt = df[f'{vec}_pt']\n",
    "        pt_name = f'{vec}_pt'\n",
    "\n",
    "    if z: eta = df[f'{vec}_eta']  \n",
    "    phi = df[f'{vec}_phi']\n",
    "    df[f'{vec}_px'] = pt*np.cos(phi)\n",
    "    df[f'{vec}_py'] = pt*np.sin(phi)\n",
    "    if z: df[f'{vec}_pz'] = pt*np.sinh(eta)\n",
    "    if drop:\n",
    "        df.drop(columns=[pt_name, f\"{vec}_phi\"], inplace=True)\n",
    "        if z: df.drop(columns=[f\"{vec}_eta\"], inplace=True)\n",
    "\n",
    "def fix_event_z(df:pd.DataFrame, ref_vec:str) -> None:\n",
    "    '''Flip event in z-axis such that ref_vec is in positive z-direction'''\n",
    "    if f'{ref_vec}_eta' in df.columns:\n",
    "        cut = (df[f'{ref_vec}_eta'] < 0)\n",
    "        for v in get_vecs(df.columns):\n",
    "            try: df.loc[cut, f'{v}_eta'] = -df.loc[cut, f'{v}_eta'] \n",
    "            except KeyError: print(f'eta component of {v} not found')\n",
    "    else:\n",
    "        cut = cut = (df[f'{ref_vec}_pz'] < 0)\n",
    "        for v in get_vecs(df.columns):\n",
    "            try: df.loc[cut, f'{v}_pz'] = -df.loc[cut, f'{v}_pz']\n",
    "            except KeyError: print(f'pz component of {v} not found')\n",
    "\n",
    "\n",
    "def fix_event_y(df:pd.DataFrame, ref_vec_0:str, ref_vec_1:str) -> None:\n",
    "    '''Flip event in y-axis such that ref_vec_1 has a higher py than ref_vec_0'''\n",
    "    if f'{ref_vec_1}_phi' in df.columns:\n",
    "        cut = (df[f'{ref_vec_1}_phi'] < 0)\n",
    "        for v in get_vecs(df.columns):\n",
    "            if v != ref_vec_0: df.loc[cut, f'{v}_phi'] = -df.loc[cut, f'{v}_phi'] \n",
    "    else:\n",
    "        cut = (df[f'{ref_vec_1}_py'] < 0)\n",
    "        for v in get_vecs(df.columns):\n",
    "            if v != ref_vec_0: df.loc[cut, f'{v}_py'] = -df.loc[cut, f'{v}_py']\n",
    "                \n",
    "def event_to_cartesian(df:pd.DataFrame, drop:bool=False, ignore:List[str]=[]) -> None:\n",
    "    '''Convert entire event to Cartesian coordinates, except vectors in ignore.\n",
    "    Optionally, drop old pT,eta,phi features'''\n",
    "    for v in get_vecs(df.columns):\n",
    "        if v not in ignore: to_cartesian(df, v, drop=drop)\n",
    "\n",
    "\n",
    "def proc_event(df:pd.DataFrame, fix_phi:bool=False, fix_y=False, fix_z=False, use_cartesian=False,\n",
    "               ref_vec_0:str=None, ref_vec_1:str=None, keep_feats=[], default_vals=[]) -> None:\n",
    "    '''Pass data through conversions and drop uneeded columns'''\n",
    "    df.replace([np.inf, -np.inf]+default_vals, np.nan, inplace=True)\n",
    "    for f in keep_feats: df[f'{f}keep'] = df[f'{f}']\n",
    "    \n",
    "    if fix_phi:\n",
    "        print(f'Setting {ref_vec_0} to phi = 0')\n",
    "        fix_event_phi(df, ref_vec_0)\n",
    "        if fix_y:\n",
    "            print(f'Setting {ref_vec_1} to positve phi')\n",
    "            fix_event_y(df, ref_vec_0, ref_vec_1)\n",
    "    if fix_z:\n",
    "        print(f'Setting {ref_vec_0} to positive eta')\n",
    "        fix_event_z(df, ref_vec_0) \n",
    "    if use_cartesian:\n",
    "        print(\"Converting to use_cartesian coordinates\")\n",
    "        event_to_cartesian(df, drop=True)\n",
    "    if   fix_phi and not use_cartesian: df.drop(columns=[f\"{ref_vec_0}_phi\"], inplace=True)\n",
    "    elif fix_phi and     use_cartesian: df.drop(columns=[f\"{ref_vec_0}_py\"], inplace=True)\n",
    "    \n",
    "    for f in keep_feats:\n",
    "        df[f'{f}'] = df[f'{f}keep']\n",
    "        df.drop(columns=[f'{f}keep'], inplace=True)"
   ]
  },
  {
   "cell_type": "code",
   "execution_count": 10,
   "metadata": {},
   "outputs": [
    {
     "name": "stdout",
     "output_type": "stream",
     "text": [
      "Setting PRI_lep to phi = 0\n",
      "Setting PRI_tau to positve phi\n",
      "Setting PRI_lep to positive eta\n",
      "eta component of PRI_met not found\n",
      "Converting to use_cartesian coordinates\n",
      "Setting PRI_lep to phi = 0\n",
      "Setting PRI_tau to positve phi\n",
      "Setting PRI_lep to positive eta\n",
      "eta component of PRI_met not found\n",
      "Converting to use_cartesian coordinates\n"
     ]
    }
   ],
   "source": [
    "proc_event(df, fix_phi=True, fix_y=True, fix_z=True, ref_vec_0='PRI_lep', ref_vec_1='PRI_tau', \n",
    "           use_cartesian=True, default_vals=[-999.0], keep_feats=['PRI_met_pt'])\n",
    "proc_event(test, fix_phi=True, fix_y=True, fix_z=True, ref_vec_0='PRI_lep', ref_vec_1='PRI_tau', \n",
    "           use_cartesian=True, default_vals=[-999.0], keep_feats=['PRI_met_pt'])"
   ]
  },
  {
   "cell_type": "markdown",
   "metadata": {},
   "source": [
    "For quick access, we'll define here all the sets of features we'll later want use."
   ]
  },
  {
   "cell_type": "code",
   "execution_count": 11,
   "metadata": {},
   "outputs": [
    {
     "name": "stdout",
     "output_type": "stream",
     "text": [
      "1 ['PRI_jet_num']\n",
      "29 ['DER_mass_MMC', 'DER_mass_transverse_met_lep', 'DER_mass_vis', 'DER_pt_h', 'DER_deltaeta_jet_jet', 'DER_mass_jet_jet', 'DER_prodeta_jet_jet', 'DER_deltar_tau_lep', 'DER_pt_tot', 'DER_sum_pt', 'DER_pt_ratio_lep_tau', 'DER_met_phi_centrality', 'DER_lep_eta_centrality', 'PRI_met_sumet', 'PRI_jet_all_pt', 'PRI_jet_leading_px', 'PRI_jet_leading_py', 'PRI_jet_leading_pz', 'PRI_met_px', 'PRI_met_py', 'PRI_tau_px', 'PRI_tau_py', 'PRI_tau_pz', 'PRI_lep_px', 'PRI_lep_pz', 'PRI_jet_subleading_px', 'PRI_jet_subleading_py', 'PRI_jet_subleading_pz', 'PRI_met_pt']\n"
     ]
    }
   ],
   "source": [
    "targ_feat = 'gen_target'\n",
    "gen_feats = [f for f in df.columns if 'gen_' in f]\n",
    "misc_feats = ['EventId']\n",
    "wgt_feat = 'gen_weight'\n",
    "cat_feats = ['PRI_jet_num']\n",
    "cont_feats = [f for f in df.columns if f not in gen_feats+cat_feats+misc_feats]\n",
    "print(len(cat_feats), cat_feats)\n",
    "print(len(cont_feats), cont_feats)\n",
    "train_feats = cont_feats + cat_feats"
   ]
  },
  {
   "cell_type": "markdown",
   "metadata": {},
   "source": [
    "Note that we'll be treating the number of jets in the event `PRI_jet_num` as a categorical feature; whilst the number of jets has some numerical meaning (an event with 2 jets contains more jets than an event with none), this feature can instead be treated as identifying different sub-classes of event, in which case a *1-jet event* has no numerical comparison to a *3-jet event*. Basically, this means we'll treat the feature a bit differently to the normal, continuous features."
   ]
  },
  {
   "cell_type": "code",
   "execution_count": 12,
   "metadata": {},
   "outputs": [],
   "source": [
    "df.replace([np.inf, -np.inf], np.nan, inplace=True)\n",
    "test.replace([np.inf, -np.inf], np.nan, inplace=True)"
   ]
  },
  {
   "cell_type": "code",
   "execution_count": 13,
   "metadata": {},
   "outputs": [
    {
     "data": {
      "text/plain": [
       "['DER_mass_MMC',\n",
       " 'DER_deltaeta_jet_jet',\n",
       " 'DER_mass_jet_jet',\n",
       " 'DER_prodeta_jet_jet',\n",
       " 'DER_lep_eta_centrality',\n",
       " 'PRI_jet_leading_px',\n",
       " 'PRI_jet_leading_py',\n",
       " 'PRI_jet_leading_pz',\n",
       " 'PRI_jet_subleading_px',\n",
       " 'PRI_jet_subleading_py',\n",
       " 'PRI_jet_subleading_pz']"
      ]
     },
     "execution_count": 13,
     "metadata": {},
     "output_type": "execute_result"
    }
   ],
   "source": [
    "df.columns[df.isna().any()].tolist()"
   ]
  },
  {
   "cell_type": "code",
   "execution_count": 14,
   "metadata": {},
   "outputs": [
    {
     "data": {
      "text/plain": [
       "['DER_mass_MMC',\n",
       " 'DER_deltaeta_jet_jet',\n",
       " 'DER_mass_jet_jet',\n",
       " 'DER_prodeta_jet_jet',\n",
       " 'DER_lep_eta_centrality',\n",
       " 'PRI_jet_leading_px',\n",
       " 'PRI_jet_leading_py',\n",
       " 'PRI_jet_leading_pz',\n",
       " 'PRI_jet_subleading_px',\n",
       " 'PRI_jet_subleading_py',\n",
       " 'PRI_jet_subleading_pz']"
      ]
     },
     "execution_count": 14,
     "metadata": {},
     "output_type": "execute_result"
    }
   ],
   "source": [
    "test.columns[test.isna().any()].tolist()"
   ]
  },
  {
   "cell_type": "markdown",
   "metadata": {},
   "source": [
    "We've got some NaNs in the data, however this is due to non-existent jets, float precision, and algorithm non-convergence. Later we'll use `np.nan_to_num` to replace them with real numbers."
   ]
  },
  {
   "cell_type": "markdown",
   "metadata": {},
   "source": [
    "#### Train-validation split \n",
    "In previous examples, we've evaluated are model on the same data it was trained with, however we also saw that NNs do not extrapolate well and can easily overfit to the training data. For this challenge we have a test set, which originally did not have labels and would be used to determine the final performance of our solution for the competition. However if we wanted to change the model and tune it a bit, we would have to have some extra data to check the model performance on, otherwise we may well overfit to the testing data. This extra set is commonly called the *validation dataset*. Basically, model performance can be evaluated on data which was not used for training (shows how the model generalises to unseen data), and the model can be tuned without the danger of overfitting to the test data.\n",
    "\n",
    "The data also contains a mis-match between the number of signal and background events, which could lead the classifier to be biased into classifying one class better than the other. By creating a normalised version of the event weights, the loss during training can be reweighted to account for this difference. We;ll do this before splitting the training data, so that the losses of training and validation are of comparable scale."
   ]
  },
  {
   "cell_type": "code",
   "execution_count": 15,
   "metadata": {},
   "outputs": [],
   "source": [
    "df['gen_orig_weight'] = df['gen_weight']\n",
    "df.loc[df.gen_target == 0, 'gen_weight'] /= np.sum(df.loc[df.gen_target == 0, 'gen_weight'])\n",
    "df.loc[df.gen_target == 1, 'gen_weight'] /= np.sum(df.loc[df.gen_target == 1, 'gen_weight'])"
   ]
  },
  {
   "cell_type": "code",
   "execution_count": 16,
   "metadata": {},
   "outputs": [],
   "source": [
    "val_sz = 0.2\n",
    "train_df, val_df = train_test_split(df, test_size=val_sz, stratify=df.gen_target, random_state=1111)"
   ]
  },
  {
   "cell_type": "markdown",
   "metadata": {},
   "source": [
    "A go to guide for validation set size is about 20% of your training data, but feel free to experiment. We also perform a *stratified* split based on the event class; the ratios of signal to background in the training and validation sets should be equal.\n",
    "\n",
    "It is important that our validation set matches the test set as closely as possible. For our case, the training and testing data are probably just a random subsamples of the same original dataset, so random splitting for validation  should work well, however you might later come across problems where the test set set different to the training set (e.g. in time-series data), in which case you may want to remove features which are affected by this difference.\n",
    "\n",
    "`check_val_set` runs some random forests to try and predict the originating datasets of the events, and then returns the area under the ROC curve for the classifiers. Ideally this should be 0.5, indicating it can only do as well as random guessing. Training and inference use weights to account for the fact that the datasets may have uneven populations."
   ]
  },
  {
   "cell_type": "code",
   "execution_count": 17,
   "metadata": {},
   "outputs": [],
   "source": [
    "def get_rf_feat_importance(rf:ForestRegressor, inputs:pd.DataFrame, targets:np.ndarray, weights:Optional[np.ndarray]=None) -> pd.DataFrame:\n",
    "    '''Wrapper function for rfpimp which checks correct version is installed'''\n",
    "    return importances(rf, inputs, targets, features=inputs.columns, sample_weights=weights).reset_index()\n",
    "\n",
    "def check_val_set(val:Union[pd.DataFrame,np.ndarray], test:Union[pd.DataFrame,np.ndarray]) -> None:\n",
    "    '''Method to check validation set suitability by seeing whether random forests can predict whether events belong to one dataset or the other.'''\n",
    "    if not isinstance(val, pd.DataFrame): \n",
    "        val  = pd.DataFrame(np.nan_to_num(val))\n",
    "        test = pd.DataFrame(np.nan_to_num(test))\n",
    "    else:\n",
    "        val  = pd.DataFrame(np.nan_to_num(val.values),  columns=val.columns)\n",
    "        test = pd.DataFrame(np.nan_to_num(test.values), columns=test.columns)\n",
    "\n",
    "    df_0 = test\n",
    "    df_1 = val\n",
    "    df_0['gen_target'] = 0\n",
    "    df_1['gen_target'] = 1\n",
    "    df_0['gen_weight'] = 1/len(df_0)\n",
    "    df_1['gen_weight'] = 1/len(df_1)\n",
    "\n",
    "    df = df_0.append(df_1, ignore_index=True).sample(frac=1)\n",
    "    df_trn, df_val = df[:len(df)//2], df[len(df)//2:]\n",
    "    train_feats = [f for f in df_trn.columns if 'gen_' not in f]\n",
    "\n",
    "    m = RandomForestClassifier(n_estimators=40, min_samples_leaf=25, n_jobs=-1)\n",
    "    m.fit(df_trn[train_feats], df_trn['gen_target'], df_trn['gen_weight'])\n",
    "    auc = roc_auc_score(df_val['gen_target'], m.predict(df_val[train_feats]), sample_weight=df_val['gen_weight'])\n",
    "    fi = get_rf_feat_importance(m, df_val[train_feats], df_val['gen_target'],\n",
    "                                df_val['gen_weight']).sort_values(['Importance'], ascending=False).reset_index()\n",
    "    print(f\"\\nAUC for test-validation discrimination = {auc}\")\n",
    "    print(\"Top 10 most important features are:\")\n",
    "    print(fi[:min(10, len(fi))])"
   ]
  },
  {
   "cell_type": "code",
   "execution_count": 18,
   "metadata": {},
   "outputs": [
    {
     "name": "stdout",
     "output_type": "stream",
     "text": [
      "\n",
      "AUC for test-validation discrimination = 0.4998460582151823\n",
      "Top 10 most important features are:\n",
      "   index                      Feature  Importance\n",
      "0      0                PRI_met_sumet    0.003375\n",
      "1      1                   PRI_lep_px    0.002587\n",
      "2      2       DER_met_phi_centrality    0.002587\n",
      "3      3                 DER_mass_vis    0.002475\n",
      "4      4                 DER_mass_MMC    0.002475\n",
      "5      5           DER_deltar_tau_lep    0.002362\n",
      "6      6                   PRI_met_pt    0.002250\n",
      "7      7                     DER_pt_h    0.002137\n",
      "8      8  DER_mass_transverse_met_lep    0.002025\n",
      "9      9           PRI_jet_leading_py    0.001800\n"
     ]
    }
   ],
   "source": [
    "check_val_set(val_df[train_feats], test[train_feats])"
   ]
  },
  {
   "cell_type": "markdown",
   "metadata": {},
   "source": [
    "Looks like there is no way to tell the validation set apart from the testing set"
   ]
  },
  {
   "cell_type": "markdown",
   "metadata": {},
   "source": [
    "#### Final preprocessing\n",
    "The network weights will use initialisation schemes which expect the inputs to be unit Gaussian. We'll use sklearn pipelines to package transformations which alter the data to have mean zero and standard deviation one. Note that we only apply these transformations to the continuous features, and only fit the transformations to the training data before applying them to all datasets. "
   ]
  },
  {
   "cell_type": "code",
   "execution_count": 19,
   "metadata": {},
   "outputs": [
    {
     "data": {
      "text/plain": [
       "Pipeline(memory=None,\n",
       "     steps=[('norm_in', StandardScaler(copy=True, with_mean=True, with_std=True))])"
      ]
     },
     "execution_count": 19,
     "metadata": {},
     "output_type": "execute_result"
    }
   ],
   "source": [
    "input_pipe = Pipeline([('norm_in', StandardScaler(with_mean=True, with_std=True))])\n",
    "input_pipe.fit(train_df[cont_feats])"
   ]
  },
  {
   "cell_type": "code",
   "execution_count": 20,
   "metadata": {},
   "outputs": [
    {
     "name": "stderr",
     "output_type": "stream",
     "text": [
      "/Users/giles/anaconda3/lib/python3.6/site-packages/ipykernel_launcher.py:1: SettingWithCopyWarning: \n",
      "A value is trying to be set on a copy of a slice from a DataFrame.\n",
      "Try using .loc[row_indexer,col_indexer] = value instead\n",
      "\n",
      "See the caveats in the documentation: http://pandas.pydata.org/pandas-docs/stable/indexing.html#indexing-view-versus-copy\n",
      "  \"\"\"Entry point for launching an IPython kernel.\n",
      "/Users/giles/anaconda3/lib/python3.6/site-packages/pandas/core/indexing.py:543: SettingWithCopyWarning: \n",
      "A value is trying to be set on a copy of a slice from a DataFrame.\n",
      "Try using .loc[row_indexer,col_indexer] = value instead\n",
      "\n",
      "See the caveats in the documentation: http://pandas.pydata.org/pandas-docs/stable/indexing.html#indexing-view-versus-copy\n",
      "  self.obj[item] = s\n",
      "/Users/giles/anaconda3/lib/python3.6/site-packages/ipykernel_launcher.py:2: SettingWithCopyWarning: \n",
      "A value is trying to be set on a copy of a slice from a DataFrame.\n",
      "Try using .loc[row_indexer,col_indexer] = value instead\n",
      "\n",
      "See the caveats in the documentation: http://pandas.pydata.org/pandas-docs/stable/indexing.html#indexing-view-versus-copy\n",
      "  \n",
      "/Users/giles/anaconda3/lib/python3.6/site-packages/pandas/core/indexing.py:543: SettingWithCopyWarning: \n",
      "A value is trying to be set on a copy of a slice from a DataFrame.\n",
      "Try using .loc[row_indexer,col_indexer] = value instead\n",
      "\n",
      "See the caveats in the documentation: http://pandas.pydata.org/pandas-docs/stable/indexing.html#indexing-view-versus-copy\n",
      "  self.obj[item] = s\n"
     ]
    }
   ],
   "source": [
    "train_df[cont_feats] = input_pipe.transform(train_df[cont_feats])\n",
    "val_df[cont_feats] = input_pipe.transform(val_df[cont_feats])\n",
    "test[cont_feats] = input_pipe.transform(test[cont_feats])"
   ]
  },
  {
   "cell_type": "markdown",
   "metadata": {},
   "source": [
    "As mentioned before, we'll be treating the categorical features a bit differently to the continuous ones. We need to have some way of encoding the value into something the network can interpret. Since the value of a categorical feature (its *code*) doesn't matter, we can transform them to start from zero and increase incrementaly. This makes them easier to encode, however we also need to make sure the validation (and test) sets receive the same transformaitions as the training set.\n",
    "\n",
    "`proc_cats` does this and returns dictionaries of the both the mapping that was applied, and the cardinality (number of unique values) of each feature."
   ]
  },
  {
   "cell_type": "code",
   "execution_count": 21,
   "metadata": {},
   "outputs": [],
   "source": [
    "def proc_cats(train_df:pd.DataFrame, cat_feats:List[str], \n",
    "              val_df:Optional[pd.DataFrame]=None, test_df:Optional[pd.DataFrame]=None) -> Tuple[OrderedDict,OrderedDict]:\n",
    "    '''Process categorical features in train_df to be valued 0->cardinality-1.\n",
    "    Applies same transformation to validation adn testing data.\n",
    "    Returns transformation maps and cardinalities'''\n",
    "    cat_maps = OrderedDict()\n",
    "    cat_szs = OrderedDict()\n",
    "    for feat in cat_feats:\n",
    "        cat_maps[feat] = {}\n",
    "        vals = sorted(set(train_df[feat]))\n",
    "        cat_szs[feat] = len(vals)\n",
    "        if val_df is not None:\n",
    "            if sorted(set(val_df[feat])) != vals:\n",
    "                raise Exception(f\"Feature {feat} declared categorical, but validation set contains categories different to the training set\")\n",
    "        if test_df is not None:\n",
    "            if sorted(set(val_df[feat])) != vals:\n",
    "                raise Exception(f\"Feature {feat} declared categorical, but testing set contains categories different to the training set\")\n",
    "        \n",
    "        for i, val in enumerate(vals):\n",
    "            train_df.loc[train_df[feat] == val, feat] = i\n",
    "            if val_df is not None: val_df.loc[val_df[feat] == val, feat] = i\n",
    "            if test_df is not None: test_df.loc[test_df[feat] == val, feat] = i\n",
    "            cat_maps[feat][i] = val\n",
    "    return cat_maps, cat_szs"
   ]
  },
  {
   "cell_type": "code",
   "execution_count": 22,
   "metadata": {},
   "outputs": [
    {
     "name": "stderr",
     "output_type": "stream",
     "text": [
      "/Users/giles/anaconda3/lib/python3.6/site-packages/pandas/core/indexing.py:543: SettingWithCopyWarning: \n",
      "A value is trying to be set on a copy of a slice from a DataFrame.\n",
      "Try using .loc[row_indexer,col_indexer] = value instead\n",
      "\n",
      "See the caveats in the documentation: http://pandas.pydata.org/pandas-docs/stable/indexing.html#indexing-view-versus-copy\n",
      "  self.obj[item] = s\n"
     ]
    },
    {
     "data": {
      "text/plain": [
       "(OrderedDict([('PRI_jet_num', {0: 0, 1: 1, 2: 2, 3: 3})]),\n",
       " OrderedDict([('PRI_jet_num', 4)]))"
      ]
     },
     "execution_count": 22,
     "metadata": {},
     "output_type": "execute_result"
    }
   ],
   "source": [
    "cat_maps, cat_szs = proc_cats(train_df, cat_feats, val_df, test)\n",
    "cat_maps, cat_szs"
   ]
  },
  {
   "cell_type": "markdown",
   "metadata": {},
   "source": [
    "So as it turns out the values of `PRI_jet_num` were already sequential from zero to one."
   ]
  },
  {
   "cell_type": "markdown",
   "metadata": {},
   "source": [
    "## Train classifier"
   ]
  },
  {
   "cell_type": "markdown",
   "metadata": {},
   "source": [
    "Now we're ready to begin training the network-based classifier, but we have yet to decide how to encode our categorical feature. A common approach is *one-hot encoding*, where a binary vector is used with the number of elements equal to the feature cardinality. A value can then be represented by setting one of the elements to one, e.g. an event with two jets could be represented by 0010, or zero jets by 1000.\n",
    "\n",
    "This requires us to have as many inputs to our model as there are unique numbers in each categorical feature; fine when we just have one feature with a cardinality of four, but what is we had 10 features with hundreds of unique values? That's a lot of extra inputs!\n",
    "\n",
    "[Entity Embeddings of Categorical Variables](https://arxiv.org/abs/1604.06737) offers an alternative solution: each code of a categorical feature corresponds to a row in and $n\\times m$ matrix called an *embedding*, where $n$ is the cardinality of the feature and $m$ is the pre-chosen *embedding size*, and $m<n$. Effectively, rather than encoding a feature of cardinality $n$ as a one-hot vector of length $n$, it is encoded as a vector of floats of length $m$. The embedding size can be tuned, but useful rule of thumb is min(50, (cardinality+1)//2).\n",
    "\n",
    "These floats are then treated as parameters of the network meaning they can be updated; effectively, during training the embedding matrix learns the optimal way of representing the feature in a compact fashion whilst still allowing a rich representation of the feature.\n",
    "\n",
    "\n",
    "In the below example of encoding the day of the week, Monday is represented by (0.3,0.9,0.4,0.7), rather than (1,0,0,0,0,0,0) e.g. by four inputs rather than seven. \n",
    "<img src=\"imgs/embedding.png\" width=\"250\">\n",
    "\n",
    "Building this model will use a hybrid approach of the class and functionally approaches; a `Sequential` model build by the class-based approach can then be used as a transformation in the functional approach.\n",
    "\n",
    "We build sub-networks for embedding each categorical feature (just the one in our case) and then concatenate the embedding outputs with the continuous inputs."
   ]
  },
  {
   "cell_type": "code",
   "execution_count": 23,
   "metadata": {},
   "outputs": [],
   "source": [
    "def build_model(n_cont_in:int, n_cat_in:int, cat_szs:List[int]) -> Model:\n",
    "    #Continuous inputs\n",
    "    cont_in = Input(shape=(n_cont_in,))\n",
    "    \n",
    "    #Categorical embeddings\n",
    "    embedds = []\n",
    "    for cat_sz in cat_szs:\n",
    "        m = Sequential()\n",
    "        sz = min((cat_sz+1)//2, 50)  # embedding size uses a rule of thumb\n",
    "        m.add(Embedding(cat_sz, sz, input_length=1))  # Embeddings are normally used of recurrent networks, hence need to specify an input length\n",
    "        m.add(Reshape(target_shape=(sz,)))  # Need to reshape because reasons\n",
    "        embedds.append(m)\n",
    "        \n",
    "    merged = Concatenate()([cont_in]+[e.output for e in embedds])\n",
    "    for _ in range(4): merged = Dense(100, activation='relu', kernel_initializer='he_normal')(merged)\n",
    "    merged = Dense(1, activation='sigmoid')(merged)\n",
    "    \n",
    "    return Model(inputs=[cont_in]+[e.input for e in embedds], outputs=merged)"
   ]
  },
  {
   "cell_type": "code",
   "execution_count": 24,
   "metadata": {},
   "outputs": [],
   "source": [
    "model = build_model(len(cont_feats), len(cat_feats), [cat_szs[f] for f in cat_szs])"
   ]
  },
  {
   "cell_type": "code",
   "execution_count": 25,
   "metadata": {},
   "outputs": [
    {
     "name": "stdout",
     "output_type": "stream",
     "text": [
      "__________________________________________________________________________________________________\n",
      "Layer (type)                    Output Shape         Param #     Connected to                     \n",
      "==================================================================================================\n",
      "embedding_1_input (InputLayer)  (None, 1)            0                                            \n",
      "__________________________________________________________________________________________________\n",
      "embedding_1 (Embedding)         (None, 1, 2)         8           embedding_1_input[0][0]          \n",
      "__________________________________________________________________________________________________\n",
      "input_1 (InputLayer)            (None, 29)           0                                            \n",
      "__________________________________________________________________________________________________\n",
      "reshape_1 (Reshape)             (None, 2)            0           embedding_1[0][0]                \n",
      "__________________________________________________________________________________________________\n",
      "concatenate_1 (Concatenate)     (None, 31)           0           input_1[0][0]                    \n",
      "                                                                 reshape_1[0][0]                  \n",
      "__________________________________________________________________________________________________\n",
      "dense_1 (Dense)                 (None, 100)          3200        concatenate_1[0][0]              \n",
      "__________________________________________________________________________________________________\n",
      "dense_2 (Dense)                 (None, 100)          10100       dense_1[0][0]                    \n",
      "__________________________________________________________________________________________________\n",
      "dense_3 (Dense)                 (None, 100)          10100       dense_2[0][0]                    \n",
      "__________________________________________________________________________________________________\n",
      "dense_4 (Dense)                 (None, 100)          10100       dense_3[0][0]                    \n",
      "__________________________________________________________________________________________________\n",
      "dense_5 (Dense)                 (None, 1)            101         dense_4[0][0]                    \n",
      "==================================================================================================\n",
      "Total params: 33,609\n",
      "Trainable params: 33,609\n",
      "Non-trainable params: 0\n",
      "__________________________________________________________________________________________________\n"
     ]
    }
   ],
   "source": [
    "model.summary()"
   ]
  },
  {
   "cell_type": "markdown",
   "metadata": {},
   "source": [
    "The optimiser parameters I've set using prior experience with this dataset and architecture. Sadly, not enough time to go into details."
   ]
  },
  {
   "cell_type": "code",
   "execution_count": 26,
   "metadata": {},
   "outputs": [],
   "source": [
    "model.compile(Adam(lr=2e-3, epsilon=1e-8), loss='binary_crossentropy')"
   ]
  },
  {
   "cell_type": "markdown",
   "metadata": {},
   "source": [
    "We'll pass our validation data to the model during fitting. The data isn't used for training, but instead to monitor the performance and generalisation of the model. Training a network normally involves three stages: undertraining, where performance on training and validation data is bad but improving; optimal performance, where performance on validation data is as good as it will be; and over training, where performance on training data continues to improve, but validation performance either stays the same or gets worse (generalisation to unseen data worsens).\n",
    "\n",
    "It's necessary to see this point of overtraining to know that are model has reached and bypassed its optimal performance (is not underfitting), however we want to use the model in the state it was in when it was perfoming optimally. To do this we can use `Callback` classes to perform actions during training.\n",
    "\n",
    "`EarlyStopping` will stop training automatically if the validation loss has not improved for a set number of epochs (its `patience`); we can set a really high value of `epochs` in training to ensure the model over trains, but does not take ages to finish training.\n",
    "\n",
    "`ModelCheckpoint` will save a copy of the model whenever it improves on the validation data. We can then reload this model after training to get back to the state of optimal performance. "
   ]
  },
  {
   "cell_type": "code",
   "execution_count": 27,
   "metadata": {},
   "outputs": [],
   "source": [
    "os.makedirs('tmp', exist_ok=True)\n",
    "callbacks = [EarlyStopping(patience=10, verbose=True), ModelCheckpoint('tmp/best.h5', save_best_only=True, save_weights_only=True)]"
   ]
  },
  {
   "cell_type": "markdown",
   "metadata": {},
   "source": [
    "Since we have multiple inputs to the model, we need to pass a list of arrays as inputs."
   ]
  },
  {
   "cell_type": "code",
   "execution_count": 28,
   "metadata": {},
   "outputs": [
    {
     "name": "stdout",
     "output_type": "stream",
     "text": [
      "Train on 200000 samples, validate on 50000 samples\n",
      "Epoch 1/50\n",
      "200000/200000 [==============================] - 2s 12us/step - loss: 2.8630e-06 - val_loss: 2.6817e-06\n",
      "Epoch 2/50\n",
      "200000/200000 [==============================] - 2s 10us/step - loss: 2.6467e-06 - val_loss: 2.6494e-06\n",
      "Epoch 3/50\n",
      "200000/200000 [==============================] - 2s 11us/step - loss: 2.6019e-06 - val_loss: 2.6597e-06\n",
      "Epoch 4/50\n",
      "200000/200000 [==============================] - 2s 9us/step - loss: 2.5683e-06 - val_loss: 2.6150e-06\n",
      "Epoch 5/50\n",
      "200000/200000 [==============================] - 2s 10us/step - loss: 2.5518e-06 - val_loss: 2.6087e-06\n",
      "Epoch 6/50\n",
      "200000/200000 [==============================] - 2s 10us/step - loss: 2.5370e-06 - val_loss: 2.6164e-06\n",
      "Epoch 7/50\n",
      "200000/200000 [==============================] - 2s 10us/step - loss: 2.5180e-06 - val_loss: 2.5964e-06\n",
      "Epoch 8/50\n",
      "200000/200000 [==============================] - 2s 10us/step - loss: 2.5100e-06 - val_loss: 2.6005e-06\n",
      "Epoch 9/50\n",
      "200000/200000 [==============================] - 2s 10us/step - loss: 2.4974e-06 - val_loss: 2.5975e-06\n",
      "Epoch 10/50\n",
      "200000/200000 [==============================] - 2s 9us/step - loss: 2.4852e-06 - val_loss: 2.6112e-06\n",
      "Epoch 11/50\n",
      "200000/200000 [==============================] - 2s 10us/step - loss: 2.4720e-06 - val_loss: 2.5934e-06\n",
      "Epoch 12/50\n",
      "200000/200000 [==============================] - 2s 11us/step - loss: 2.4604e-06 - val_loss: 2.6548e-06\n",
      "Epoch 13/50\n",
      "200000/200000 [==============================] - 3s 13us/step - loss: 2.4546e-06 - val_loss: 2.6623e-06\n",
      "Epoch 14/50\n",
      "200000/200000 [==============================] - 3s 13us/step - loss: 2.4434e-06 - val_loss: 2.6203e-06\n",
      "Epoch 15/50\n",
      "200000/200000 [==============================] - 3s 13us/step - loss: 2.4334e-06 - val_loss: 2.6179e-06\n",
      "Epoch 16/50\n",
      "200000/200000 [==============================] - 3s 13us/step - loss: 2.4219e-06 - val_loss: 2.6164e-06\n",
      "Epoch 17/50\n",
      "200000/200000 [==============================] - 3s 13us/step - loss: 2.4126e-06 - val_loss: 2.6262e-06\n",
      "Epoch 18/50\n",
      "200000/200000 [==============================] - 3s 13us/step - loss: 2.4055e-06 - val_loss: 2.6670e-06\n",
      "Epoch 19/50\n",
      "200000/200000 [==============================] - 2s 12us/step - loss: 2.3907e-06 - val_loss: 2.6721e-06\n",
      "Epoch 20/50\n",
      "200000/200000 [==============================] - 2s 11us/step - loss: 2.3803e-06 - val_loss: 2.6561e-06\n",
      "Epoch 21/50\n",
      "200000/200000 [==============================] - 2s 11us/step - loss: 2.3737e-06 - val_loss: 2.6645e-06\n",
      "Epoch 00021: early stopping\n"
     ]
    }
   ],
   "source": [
    "hist = model.fit(x=[np.nan_to_num(train_df[cont_feats])]+[train_df[f].values for f in cat_feats], y=train_df.gen_target, sample_weight=train_df.gen_weight,\n",
    "                 validation_data=([np.nan_to_num(val_df[cont_feats])]+[val_df[f].values for f in cat_feats], val_df.gen_target, val_df.gen_weight),\n",
    "                 batch_size=256, callbacks=callbacks, epochs=50)"
   ]
  },
  {
   "cell_type": "code",
   "execution_count": 29,
   "metadata": {},
   "outputs": [
    {
     "data": {
      "image/png": "[encoded data removed]",
      "text/plain": [
       "<Figure size 432x288 with 1 Axes>"
      ]
     },
     "metadata": {},
     "output_type": "display_data"
    }
   ],
   "source": [
    "plt.plot(range(len(hist.history['loss'])), np.array(hist.history['loss']), label='Training')\n",
    "plt.plot(range(len(hist.history['val_loss'])), np.array(hist.history['val_loss']), label='Validation')\n",
    "plt.legend()\n",
    "plt.xlabel('Epoch')\n",
    "plt.ylabel('Loss');"
   ]
  },
  {
   "cell_type": "markdown",
   "metadata": {},
   "source": [
    "As expected, our validation loss decreases, reaches a plateau, and the starts get worse, whereas the training loss continually improves. This improvement is artificial an does not generalise to unseen data (otherwise it would be reflected in the validation loss). Since we want to apply our model to unseen data, we should reload the model where the validation loss was lowest."
   ]
  },
  {
   "cell_type": "code",
   "execution_count": 30,
   "metadata": {},
   "outputs": [],
   "source": [
    "model.load_weights('tmp/best.h5')"
   ]
  },
  {
   "cell_type": "markdown",
   "metadata": {},
   "source": [
    "## Validation scoring\n",
    "We have a value for the loss of the validation data, however the Higgs challenge involves maximising the *Approximate Median Significance* (a number which approximately indicates the statistical significance of the signal/background hypothesis test. Significance greater than five indicates discovery of the Higgs boson).\n",
    "\n",
    "Computing the AMS requires cutting on the classifier prediction, throwing away data below the cut and passing the weights of true and false positives to a complicated formula. Maximising the AMS involves varying this cut and checking the corresponding AMS."
   ]
  },
  {
   "cell_type": "code",
   "execution_count": 31,
   "metadata": {
    "scrolled": false
   },
   "outputs": [
    {
     "name": "stderr",
     "output_type": "stream",
     "text": [
      "/Users/giles/anaconda3/lib/python3.6/site-packages/ipykernel_launcher.py:1: SettingWithCopyWarning: \n",
      "A value is trying to be set on a copy of a slice from a DataFrame.\n",
      "Try using .loc[row_indexer,col_indexer] = value instead\n",
      "\n",
      "See the caveats in the documentation: http://pandas.pydata.org/pandas-docs/stable/indexing.html#indexing-view-versus-copy\n",
      "  \"\"\"Entry point for launching an IPython kernel.\n"
     ]
    }
   ],
   "source": [
    "val_df['pred'] = model.predict([np.nan_to_num(val_df[cont_feats])]+[val_df[f].values for f in cat_feats])"
   ]
  },
  {
   "cell_type": "code",
   "execution_count": 32,
   "metadata": {},
   "outputs": [],
   "source": [
    "def calc_ams(s:float, b:float, br:float=0, unc_b:float=0) -> float:\n",
    "    '''Compute Approximate Median Significance for signal (background) weight s (b),\n",
    "    fractional systemtatic uncertainty unc_b, and offset br'''\n",
    "    if b == 0: return -1\n",
    "    if not unc_b:\n",
    "        radicand = 2*((s+b+br)*np.log(1.0+s/(b+br))-s)\n",
    "    else:\n",
    "        sigma_b_2 = np.square(unc_b*b)\n",
    "        radicand = 2*(((s+b)*np.log((s+b)*(b+sigma_b_2)/((b**2)+((s+b)*sigma_b_2))))-(((b**2)/sigma_b_2)*np.log(1+((sigma_b_2*s)/(b*(b+sigma_b_2))))))\n",
    "    return np.sqrt(radicand) if radicand > 0 else -1"
   ]
  },
  {
   "cell_type": "code",
   "execution_count": 33,
   "metadata": {},
   "outputs": [],
   "source": [
    "def ams_scan(df:pd.DataFrame, wgt_factor:float=1, br:float=0, syst_unc_b:float=0,\n",
    "                   pred_name:str='pred', targ_name:str='gen_target', wgt_name:str='gen_weight') -> Tuple[float,float]:\n",
    "    '''Determine optimum calc_ams and cut,\n",
    "    wgt_factor used rescale weights to get comparable calc_amss\n",
    "    sufferes from float precison - not recommended for final evaluation'''\n",
    "    max_ams, threshold = 0, 0.0\n",
    "    df = df.sort_values(by=[pred_name])\n",
    "    s = np.sum(df.loc[(df[targ_name] == 1), wgt_name])\n",
    "    b = np.sum(df.loc[(df[targ_name] == 0), wgt_name])\n",
    "\n",
    "    for i, cut in enumerate(df[pred_name]):\n",
    "        ams = calc_ams(max(0, s*wgt_factor), max(0, b*wgt_factor), br, syst_unc_b)\n",
    "        if ams > max_ams: max_ams, threshold = ams, cut\n",
    "        if df[targ_name].values[i]: s -= df[wgt_name].values[i]\n",
    "        else:                            b -= df[wgt_name].values[i]        \n",
    "    return max_ams, threshold"
   ]
  },
  {
   "cell_type": "markdown",
   "metadata": {},
   "source": [
    "In the HiggsML challenge, prediction on the test set requires specifying whether each event is signal or background, meaning we need to apply a cut on our class prediction. We could simply scan across the events in the validation sample and see where the AMS is maximised, (not we apply a weight factor to account for the difference between our validation sample and the full training sample):"
   ]
  },
  {
   "cell_type": "code",
   "execution_count": 34,
   "metadata": {},
   "outputs": [
    {
     "data": {
      "text/plain": [
       "50000"
      ]
     },
     "execution_count": 34,
     "metadata": {},
     "output_type": "execute_result"
    }
   ],
   "source": [
    "len(val_df)"
   ]
  },
  {
   "cell_type": "code",
   "execution_count": 35,
   "metadata": {},
   "outputs": [
    {
     "data": {
      "text/html": [
       "<div>\n",
       "<style scoped>\n",
       "    .dataframe tbody tr th:only-of-type {\n",
       "        vertical-align: middle;\n",
       "    }\n",
       "\n",
       "    .dataframe tbody tr th {\n",
       "        vertical-align: top;\n",
       "    }\n",
       "\n",
       "    .dataframe thead th {\n",
       "        text-align: right;\n",
       "    }\n",
       "</style>\n",
       "<table border=\"1\" class=\"dataframe\">\n",
       "  <thead>\n",
       "    <tr style=\"text-align: right;\">\n",
       "      <th></th>\n",
       "      <th>EventId</th>\n",
       "      <th>DER_mass_MMC</th>\n",
       "      <th>DER_mass_transverse_met_lep</th>\n",
       "      <th>DER_mass_vis</th>\n",
       "      <th>DER_pt_h</th>\n",
       "      <th>DER_deltaeta_jet_jet</th>\n",
       "      <th>DER_mass_jet_jet</th>\n",
       "      <th>DER_prodeta_jet_jet</th>\n",
       "      <th>DER_deltar_tau_lep</th>\n",
       "      <th>DER_pt_tot</th>\n",
       "      <th>...</th>\n",
       "      <th>PRI_tau_py</th>\n",
       "      <th>PRI_tau_pz</th>\n",
       "      <th>PRI_lep_px</th>\n",
       "      <th>PRI_lep_pz</th>\n",
       "      <th>PRI_jet_subleading_px</th>\n",
       "      <th>PRI_jet_subleading_py</th>\n",
       "      <th>PRI_jet_subleading_pz</th>\n",
       "      <th>PRI_met_pt</th>\n",
       "      <th>gen_orig_weight</th>\n",
       "      <th>pred</th>\n",
       "    </tr>\n",
       "  </thead>\n",
       "  <tbody>\n",
       "    <tr>\n",
       "      <th>213545</th>\n",
       "      <td>313545</td>\n",
       "      <td>-0.624062</td>\n",
       "      <td>0.682420</td>\n",
       "      <td>-0.202234</td>\n",
       "      <td>-0.321165</td>\n",
       "      <td>NaN</td>\n",
       "      <td>NaN</td>\n",
       "      <td>NaN</td>\n",
       "      <td>-0.484883</td>\n",
       "      <td>-0.696371</td>\n",
       "      <td>...</td>\n",
       "      <td>-0.256574</td>\n",
       "      <td>0.931122</td>\n",
       "      <td>-0.006585</td>\n",
       "      <td>-0.713692</td>\n",
       "      <td>NaN</td>\n",
       "      <td>NaN</td>\n",
       "      <td>NaN</td>\n",
       "      <td>-0.243755</td>\n",
       "      <td>2.563464</td>\n",
       "      <td>0.008769</td>\n",
       "    </tr>\n",
       "    <tr>\n",
       "      <th>225855</th>\n",
       "      <td>325855</td>\n",
       "      <td>0.516757</td>\n",
       "      <td>-0.097314</td>\n",
       "      <td>1.102178</td>\n",
       "      <td>-0.877414</td>\n",
       "      <td>NaN</td>\n",
       "      <td>NaN</td>\n",
       "      <td>NaN</td>\n",
       "      <td>2.046500</td>\n",
       "      <td>-0.752042</td>\n",
       "      <td>...</td>\n",
       "      <td>-0.528814</td>\n",
       "      <td>-0.866449</td>\n",
       "      <td>-0.718410</td>\n",
       "      <td>0.548523</td>\n",
       "      <td>NaN</td>\n",
       "      <td>NaN</td>\n",
       "      <td>NaN</td>\n",
       "      <td>-0.682538</td>\n",
       "      <td>6.605061</td>\n",
       "      <td>0.010275</td>\n",
       "    </tr>\n",
       "    <tr>\n",
       "      <th>51626</th>\n",
       "      <td>151626</td>\n",
       "      <td>NaN</td>\n",
       "      <td>1.602425</td>\n",
       "      <td>-0.979147</td>\n",
       "      <td>-0.882647</td>\n",
       "      <td>NaN</td>\n",
       "      <td>NaN</td>\n",
       "      <td>NaN</td>\n",
       "      <td>-1.474702</td>\n",
       "      <td>-0.766837</td>\n",
       "      <td>...</td>\n",
       "      <td>0.146564</td>\n",
       "      <td>-0.231347</td>\n",
       "      <td>-0.003407</td>\n",
       "      <td>-0.649662</td>\n",
       "      <td>NaN</td>\n",
       "      <td>NaN</td>\n",
       "      <td>NaN</td>\n",
       "      <td>0.645734</td>\n",
       "      <td>2.082024</td>\n",
       "      <td>0.012762</td>\n",
       "    </tr>\n",
       "    <tr>\n",
       "      <th>180833</th>\n",
       "      <td>280833</td>\n",
       "      <td>NaN</td>\n",
       "      <td>0.991297</td>\n",
       "      <td>-0.451134</td>\n",
       "      <td>-0.451843</td>\n",
       "      <td>NaN</td>\n",
       "      <td>NaN</td>\n",
       "      <td>NaN</td>\n",
       "      <td>-0.739043</td>\n",
       "      <td>0.451082</td>\n",
       "      <td>...</td>\n",
       "      <td>0.186024</td>\n",
       "      <td>-0.462582</td>\n",
       "      <td>0.099787</td>\n",
       "      <td>-0.043662</td>\n",
       "      <td>NaN</td>\n",
       "      <td>NaN</td>\n",
       "      <td>NaN</td>\n",
       "      <td>0.156317</td>\n",
       "      <td>2.235962</td>\n",
       "      <td>0.005923</td>\n",
       "    </tr>\n",
       "    <tr>\n",
       "      <th>45468</th>\n",
       "      <td>145468</td>\n",
       "      <td>-0.594403</td>\n",
       "      <td>-0.497205</td>\n",
       "      <td>-0.561894</td>\n",
       "      <td>-0.501034</td>\n",
       "      <td>NaN</td>\n",
       "      <td>NaN</td>\n",
       "      <td>NaN</td>\n",
       "      <td>0.378495</td>\n",
       "      <td>0.312016</td>\n",
       "      <td>...</td>\n",
       "      <td>-0.461467</td>\n",
       "      <td>-0.057606</td>\n",
       "      <td>-0.780336</td>\n",
       "      <td>-0.216827</td>\n",
       "      <td>NaN</td>\n",
       "      <td>NaN</td>\n",
       "      <td>NaN</td>\n",
       "      <td>-0.884742</td>\n",
       "      <td>1.681611</td>\n",
       "      <td>0.489980</td>\n",
       "    </tr>\n",
       "  </tbody>\n",
       "</table>\n",
       "<p>5 rows × 35 columns</p>\n",
       "</div>"
      ],
      "text/plain": [
       "        EventId  DER_mass_MMC  DER_mass_transverse_met_lep  DER_mass_vis  \\\n",
       "213545   313545     -0.624062                     0.682420     -0.202234   \n",
       "225855   325855      0.516757                    -0.097314      1.102178   \n",
       "51626    151626           NaN                     1.602425     -0.979147   \n",
       "180833   280833           NaN                     0.991297     -0.451134   \n",
       "45468    145468     -0.594403                    -0.497205     -0.561894   \n",
       "\n",
       "        DER_pt_h  DER_deltaeta_jet_jet  DER_mass_jet_jet  DER_prodeta_jet_jet  \\\n",
       "213545 -0.321165                   NaN               NaN                  NaN   \n",
       "225855 -0.877414                   NaN               NaN                  NaN   \n",
       "51626  -0.882647                   NaN               NaN                  NaN   \n",
       "180833 -0.451843                   NaN               NaN                  NaN   \n",
       "45468  -0.501034                   NaN               NaN                  NaN   \n",
       "\n",
       "        DER_deltar_tau_lep  DER_pt_tot    ...     PRI_tau_py  PRI_tau_pz  \\\n",
       "213545           -0.484883   -0.696371    ...      -0.256574    0.931122   \n",
       "225855            2.046500   -0.752042    ...      -0.528814   -0.866449   \n",
       "51626            -1.474702   -0.766837    ...       0.146564   -0.231347   \n",
       "180833           -0.739043    0.451082    ...       0.186024   -0.462582   \n",
       "45468             0.378495    0.312016    ...      -0.461467   -0.057606   \n",
       "\n",
       "        PRI_lep_px  PRI_lep_pz  PRI_jet_subleading_px  PRI_jet_subleading_py  \\\n",
       "213545   -0.006585   -0.713692                    NaN                    NaN   \n",
       "225855   -0.718410    0.548523                    NaN                    NaN   \n",
       "51626    -0.003407   -0.649662                    NaN                    NaN   \n",
       "180833    0.099787   -0.043662                    NaN                    NaN   \n",
       "45468    -0.780336   -0.216827                    NaN                    NaN   \n",
       "\n",
       "        PRI_jet_subleading_pz  PRI_met_pt  gen_orig_weight      pred  \n",
       "213545                    NaN   -0.243755         2.563464  0.008769  \n",
       "225855                    NaN   -0.682538         6.605061  0.010275  \n",
       "51626                     NaN    0.645734         2.082024  0.012762  \n",
       "180833                    NaN    0.156317         2.235962  0.005923  \n",
       "45468                     NaN   -0.884742         1.681611  0.489980  \n",
       "\n",
       "[5 rows x 35 columns]"
      ]
     },
     "execution_count": 35,
     "metadata": {},
     "output_type": "execute_result"
    }
   ],
   "source": [
    "val_df.head()"
   ]
  },
  {
   "cell_type": "markdown",
   "metadata": {},
   "source": [
    "`ams_scan` will run across a range of cuts and return the maximum AMS and its corresponding cut. Note that we have to use the original, unnormalised weight, and account for the fact that the validation set is a subsample of the full training data (`wgt_factor`)."
   ]
  },
  {
   "cell_type": "code",
   "execution_count": 36,
   "metadata": {},
   "outputs": [
    {
     "data": {
      "text/plain": [
       "(3.6541876712207273, 0.9433320760726929)"
      ]
     },
     "execution_count": 36,
     "metadata": {},
     "output_type": "execute_result"
    }
   ],
   "source": [
    "ams, cut = ams_scan(val_df, br=10, wgt_factor=250000/50000, wgt_name='gen_orig_weight'); ams, cut"
   ]
  },
  {
   "cell_type": "markdown",
   "metadata": {},
   "source": [
    "Not a bad result, would probably have got us in the third of the competition. We can also plot the distributions of signal and background."
   ]
  },
  {
   "cell_type": "code",
   "execution_count": 37,
   "metadata": {},
   "outputs": [
    {
     "name": "stderr",
     "output_type": "stream",
     "text": [
      "/Users/giles/anaconda3/lib/python3.6/site-packages/scipy/stats/stats.py:1713: FutureWarning: Using a non-tuple sequence for multidimensional indexing is deprecated; use `arr[tuple(seq)]` instead of `arr[seq]`. In the future this will be interpreted as an array index, `arr[np.array(seq)]`, which will result either in an error or a different result.\n",
      "  return np.add.reduce(sorted[indexer] * weights, axis=axis) / sumval\n",
      "/Users/giles/anaconda3/lib/python3.6/site-packages/matplotlib/axes/_axes.py:6521: MatplotlibDeprecationWarning: \n",
      "The 'normed' kwarg was deprecated in Matplotlib 2.1 and will be removed in 3.1. Use 'density' instead.\n",
      "  alternative=\"'density'\", removal=\"3.1\")\n",
      "/Users/giles/anaconda3/lib/python3.6/site-packages/matplotlib/axes/_axes.py:6521: MatplotlibDeprecationWarning: \n",
      "The 'normed' kwarg was deprecated in Matplotlib 2.1 and will be removed in 3.1. Use 'density' instead.\n",
      "  alternative=\"'density'\", removal=\"3.1\")\n"
     ]
    },
    {
     "data": {
      "image/png": "[encoded data removed]",
      "text/plain": [
       "<Figure size 432x288 with 1 Axes>"
      ]
     },
     "metadata": {},
     "output_type": "display_data"
    }
   ],
   "source": [
    "sns.distplot(val_df.loc[val_df.gen_target==0, 'pred'], label='Bkg.')\n",
    "sns.distplot(val_df.loc[val_df.gen_target==1, 'pred'], label='Sig.')\n",
    "plt.legend();"
   ]
  },
  {
   "cell_type": "markdown",
   "metadata": {},
   "source": [
    "Looks good, both signal and background are peaking towards their respective targets with equal heights (unbiased classifier), and the distributions seem quite smooth."
   ]
  },
  {
   "cell_type": "markdown",
   "metadata": {},
   "source": [
    "## Test scoring"
   ]
  },
  {
   "cell_type": "markdown",
   "metadata": {},
   "source": [
    "With the OpenData version of the data, we have a labelled test set, so we can evaluate our score without submitting to Kaggle. Of course we can't reoptimise our cut, so we'll use the one from the validation data and hope it generalises well."
   ]
  },
  {
   "cell_type": "code",
   "execution_count": 38,
   "metadata": {},
   "outputs": [],
   "source": [
    "def score_test_df(df:pd.DataFrame, cut:float, pred_name='pred'):\n",
    "    accept = (df[pred_name] >= cut)\n",
    "    signal = (df.gen_target == 1)\n",
    "    bkg = (df.gen_target == 0)\n",
    "    public = (df.private == 0)\n",
    "    private = (df.private == 1)\n",
    "\n",
    "    public_ams = calc_ams(np.sum(df.loc[accept & public & signal, 'gen_weight']),\n",
    "                          np.sum(df.loc[accept & public & bkg, 'gen_weight']))\n",
    "\n",
    "    private_ams = calc_ams(np.sum(df.loc[accept & private & signal, 'gen_weight']),\n",
    "                           np.sum(df.loc[accept & private & bkg, 'gen_weight']))\n",
    "\n",
    "    print(\"Public:Private AMS: {} : {}\".format(public_ams, private_ams))    \n",
    "    return public_ams, private_ams"
   ]
  },
  {
   "cell_type": "code",
   "execution_count": 39,
   "metadata": {},
   "outputs": [],
   "source": [
    "test['pred'] = model.predict([np.nan_to_num(test[cont_feats])]+[test[f].values for f in cat_feats])"
   ]
  },
  {
   "cell_type": "code",
   "execution_count": 40,
   "metadata": {},
   "outputs": [
    {
     "name": "stdout",
     "output_type": "stream",
     "text": [
      "Public:Private AMS: 3.5927911153958374 : 3.5806398962213764\n"
     ]
    }
   ],
   "source": [
    "_ = score_test_df(test, cut, pred_name='pred')"
   ]
  },
  {
   "cell_type": "markdown",
   "metadata": {},
   "source": [
    "## Interpretation - Feature importance\n",
    "So we now have a model which is able to separate signal and background very well; one might very well be interested in what information the network is using to get a handle on the data classes.\n",
    "\n",
    "A quick way is to evaluate which features are important to the model. This can be done by *feature permutation*. The performance of the model is first evaluated. Then for each feature sequentially a copy of the data is made, and the order of one of that feature is randomised such that its values no longer correspond to the other features in the data. The model model performance is revaluated on the shuffled data, and compared to the original score. If there is a large decrease in the score, then the feature which was randomised was very important in the model. If there is only a small decrease (or increase) in the score, then the feature was not important."
   ]
  },
  {
   "cell_type": "code",
   "execution_count": 41,
   "metadata": {},
   "outputs": [],
   "source": [
    "def get_nn_feat_importance(model:Model, df:pd.DataFrame, cont_feats:List[str], cat_feats:List[str]=[], wgt_name:Optional[str]=None) -> pd.DataFrame:\n",
    "    '''Compute permutation importance of features used by a NN''' \n",
    "    weights = df[wgt_name] if wgt_name is not None else None\n",
    "    nom = model.evaluate([np.nan_to_num(df[cont_feats])]+[df[f].values for f in cat_feats], df.gen_target, sample_weight=weights, verbose=False)\n",
    "    scores = []\n",
    "    for i in range(len(cont_feats)):\n",
    "        x_cont = np.nan_to_num(df[cont_feats].values)\n",
    "        x_cont[:,i] = sklearn.utils.shuffle(x_cont[:,i])\n",
    "        scores.append(model.evaluate([x_cont]+[df[f].values for f in cat_feats], df.gen_target, sample_weight=weights, verbose=False))\n",
    "    for i in range(len(cat_feats)):\n",
    "        x_cat = [df[f].values for f in cat_feats]\n",
    "        x_cat[i] = sklearn.utils.shuffle(x_cat[i])\n",
    "        scores.append(model.evaluate([x_cont]+x_cat, df.gen_target, sample_weight=weights, verbose=False))\n",
    "    scores = (np.array(scores)-nom)/nom\n",
    "    fi = pd.DataFrame({'Feature':cont_feats+cat_feats, 'Importance':scores}).sort_values('Importance', ascending=False).reset_index(drop=True)\n",
    "    \n",
    "    print(\"Top ten most important features:\\n\", fi[:min(len(fi), 10)])\n",
    "    fig, ax = plt.subplots(figsize=(21, 12))\n",
    "    fi.plot('Feature', 'Importance', 'barh', ax=ax, legend=False)\n",
    "    ax.set_xlabel('Importance via feature permutation', fontsize=16, color='black')\n",
    "    ax.set_ylabel('Feature', fontsize=16, color='black')\n",
    "    plt.xticks(fontsize=16, color='black')\n",
    "    plt.yticks(fontsize=16, color='black')\n",
    "    plt.show()\n",
    "    return fi"
   ]
  },
  {
   "cell_type": "code",
   "execution_count": 42,
   "metadata": {
    "scrolled": false
   },
   "outputs": [
    {
     "name": "stdout",
     "output_type": "stream",
     "text": [
      "Top ten most important features:\n",
      "                        Feature  Importance\n",
      "0                 DER_mass_vis    0.846206\n",
      "1                   PRI_tau_px    0.529758\n",
      "2         DER_pt_ratio_lep_tau    0.289844\n",
      "3                   PRI_met_py    0.215866\n",
      "4  DER_mass_transverse_met_lep    0.212029\n",
      "5                  PRI_jet_num    0.190263\n",
      "6           DER_deltar_tau_lep    0.179057\n",
      "7                   PRI_met_pt    0.178624\n",
      "8                   PRI_tau_py    0.135666\n",
      "9                 DER_mass_MMC    0.128218\n"
     ]
    },
    {
     "data": {
      "image/png": "[encoded data removed]",
      "text/plain": [
       "<Figure size 1512x864 with 1 Axes>"
      ]
     },
     "metadata": {},
     "output_type": "display_data"
    }
   ],
   "source": [
    "_ = get_nn_feat_importance(model, train_df.sample(5000, weights='gen_weight'), cont_feats, cat_feats, wgt_name='gen_weight')"
   ]
  },
  {
   "cell_type": "markdown",
   "metadata": {},
   "source": [
    "Looks like a healthy spread of importances; although one feature seems to be more important than the rest, there are several other features which also have almost as high importances. The network is making good use of the data rather than being overly reliant on a single feature (which could be mismodeled by simulation). The network is also making decent use of the low-level information, not just the physics-inspired high-level features."
   ]
  }
 ],
 "metadata": {
  "kernelspec": {
   "display_name": "Python 3",
   "language": "python",
   "name": "python3"
  },
  "language_info": {
   "codemirror_mode": {
    "name": "ipython",
    "version": 3
   },
   "file_extension": ".py",
   "mimetype": "text/x-python",
   "name": "python",
   "nbconvert_exporter": "python",
   "pygments_lexer": "ipython3",
   "version": "3.6.5"
  },
  "toc": {
   "base_numbering": 1,
   "nav_menu": {},
   "number_sections": true,
   "sideBar": true,
   "skip_h1_title": false,
   "title_cell": "Table of Contents",
   "title_sidebar": "Contents",
   "toc_cell": false,
   "toc_position": {},
   "toc_section_display": true,
   "toc_window_display": false
  }
 },
 "nbformat": 4,
 "nbformat_minor": 2
}
