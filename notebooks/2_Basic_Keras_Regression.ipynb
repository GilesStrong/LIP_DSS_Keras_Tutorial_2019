{
 "cells": [
  {
   "cell_type": "markdown",
   "metadata": {},
   "source": [
    "# Keras for basic regression\n",
    "Revisiting the task of regression, let's look at trying to model a more complicated function; a sine wave with some Gaussian noise. We'll also look at an alternative way of building models in Keras."
   ]
  },
  {
   "cell_type": "code",
   "execution_count": 1,
   "metadata": {},
   "outputs": [
    {
     "name": "stderr",
     "output_type": "stream",
     "text": [
      "Using TensorFlow backend.\n"
     ]
    }
   ],
   "source": [
    "%matplotlib inline\n",
    "import numpy as np\n",
    "import matplotlib.pyplot as plt\n",
    "\n",
    "from keras.models import Model, Sequential\n",
    "from keras.layers import Dense, Activation, Input\n",
    "from keras.optimizers import Adam\n",
    "from keras.utils import plot_model"
   ]
  },
  {
   "cell_type": "markdown",
   "metadata": {},
   "source": []
  },
  {
   "cell_type": "code",
   "execution_count": 2,
   "metadata": {},
   "outputs": [],
   "source": [
    "n = 200\n",
    "x = 2*np.pi*np.random.random(n)\n",
    "y = np.sin(x)+np.random.normal(scale=0.2, size=n)\n",
    "d = np.array(list(zip(x,y)))\n",
    "np.random.shuffle(d)\n",
    "x,y = d[:,0],d[:,1]"
   ]
  },
  {
   "cell_type": "code",
   "execution_count": 3,
   "metadata": {},
   "outputs": [
    {
     "data": {
      "text/plain": [
       "<matplotlib.collections.PathCollection at 0xb25ffd438>"
      ]
     },
     "execution_count": 3,
     "metadata": {},
     "output_type": "execute_result"
    },
    {
     "data": {
      "image/png": "[encoded data removed]",
      "text/plain": [
       "<Figure size 432x288 with 1 Axes>"
      ]
     },
     "metadata": {},
     "output_type": "display_data"
    }
   ],
   "source": [
    "plt.scatter(x, y)"
   ]
  },
  {
   "cell_type": "markdown",
   "metadata": {},
   "source": [
    "Previously we used a class-based approach to building our Keras model, where we added layers one after another. Here we'll use an alternative, *functional*, approach. This involves taking a dummy tensor and applying transformations to it. The `Model` is the created by passing the original tensor and the final tensor as arguments. The history of the tensor transformations is automatically saved, and the mode will reapply them to any tensors which it is passed in the future.\n",
    "\n",
    "This method can either be more intuitive (if you view NNs as a mathematical map from input to output), or more complicated (if you instead see NNs as statistical models). In either case, it offers great flexibility than the pure class-based approach, as we'll see later.\n",
    "\n",
    "Applying transformations to the dummy tensor agin takes the form of instantiating Dense layers and activation functions, however rather than appending these to a model, they instead act on the dummy tensor."
   ]
  },
  {
   "cell_type": "code",
   "execution_count": 4,
   "metadata": {},
   "outputs": [],
   "source": [
    "inputs = Input(shape=(1,))  # This is our dummy tensor\n",
    "h = Dense(10, activation='relu', kernel_initializer='he_normal')(inputs)  # The Dense layer is applied to the dummy tensor \n",
    "for _ in range(5): h = Dense(10, activation='relu', kernel_initializer='he_normal')(h)  # This can also be done in loops\n",
    "outputs = Dense(1, activation='linear')(h)  # Final transformation with linear output\n",
    "model = Model(inputs=inputs, outputs=outputs)  # Model class then instantiated based on initial and final tensor\n",
    "\n",
    "model.compile(optimizer=Adam(lr=0.01), loss='mse')  # Compile as before (MSE=Mean Squared Error)"
   ]
  },
  {
   "cell_type": "code",
   "execution_count": 5,
   "metadata": {},
   "outputs": [
    {
     "name": "stdout",
     "output_type": "stream",
     "text": [
      "_________________________________________________________________\n",
      "Layer (type)                 Output Shape              Param #   \n",
      "=================================================================\n",
      "input_1 (InputLayer)         (None, 1)                 0         \n",
      "_________________________________________________________________\n",
      "dense_1 (Dense)              (None, 10)                20        \n",
      "_________________________________________________________________\n",
      "dense_2 (Dense)              (None, 10)                110       \n",
      "_________________________________________________________________\n",
      "dense_3 (Dense)              (None, 10)                110       \n",
      "_________________________________________________________________\n",
      "dense_4 (Dense)              (None, 10)                110       \n",
      "_________________________________________________________________\n",
      "dense_5 (Dense)              (None, 10)                110       \n",
      "_________________________________________________________________\n",
      "dense_6 (Dense)              (None, 10)                110       \n",
      "_________________________________________________________________\n",
      "dense_7 (Dense)              (None, 1)                 11        \n",
      "=================================================================\n",
      "Total params: 581\n",
      "Trainable params: 581\n",
      "Non-trainable params: 0\n",
      "_________________________________________________________________\n"
     ]
    }
   ],
   "source": [
    "model.summary()"
   ]
  },
  {
   "cell_type": "markdown",
   "metadata": {},
   "source": [
    "As before, model summary shows the layers in the NN, despite not ever explicitly appending them to the model"
   ]
  },
  {
   "cell_type": "code",
   "execution_count": 6,
   "metadata": {},
   "outputs": [
    {
     "name": "stdout",
     "output_type": "stream",
     "text": [
      "Epoch 1/100\n",
      "200/200 [==============================] - 0s 2ms/step - loss: 0.8016\n",
      "Epoch 2/100\n",
      "200/200 [==============================] - 0s 31us/step - loss: 0.6484\n",
      "Epoch 3/100\n",
      "200/200 [==============================] - 0s 27us/step - loss: 0.4040\n",
      "Epoch 4/100\n",
      "200/200 [==============================] - 0s 32us/step - loss: 0.3922\n",
      "Epoch 5/100\n",
      "200/200 [==============================] - 0s 26us/step - loss: 0.3602\n",
      "Epoch 6/100\n",
      "200/200 [==============================] - 0s 25us/step - loss: 0.2607\n",
      "Epoch 7/100\n",
      "200/200 [==============================] - 0s 28us/step - loss: 0.2262\n",
      "Epoch 8/100\n",
      "200/200 [==============================] - 0s 25us/step - loss: 0.1950\n",
      "Epoch 9/100\n",
      "200/200 [==============================] - 0s 28us/step - loss: 0.1580\n",
      "Epoch 10/100\n",
      "200/200 [==============================] - 0s 28us/step - loss: 0.1559\n",
      "Epoch 11/100\n",
      "200/200 [==============================] - 0s 27us/step - loss: 0.1361\n",
      "Epoch 12/100\n",
      "200/200 [==============================] - 0s 30us/step - loss: 0.1236\n",
      "Epoch 13/100\n",
      "200/200 [==============================] - 0s 23us/step - loss: 0.1103\n",
      "Epoch 14/100\n",
      "200/200 [==============================] - 0s 23us/step - loss: 0.1017\n",
      "Epoch 15/100\n",
      "200/200 [==============================] - 0s 26us/step - loss: 0.0945\n",
      "Epoch 16/100\n",
      "200/200 [==============================] - 0s 23us/step - loss: 0.0904\n",
      "Epoch 17/100\n",
      "200/200 [==============================] - 0s 24us/step - loss: 0.0858\n",
      "Epoch 18/100\n",
      "200/200 [==============================] - 0s 27us/step - loss: 0.0837\n",
      "Epoch 19/100\n",
      "200/200 [==============================] - 0s 25us/step - loss: 0.0827\n",
      "Epoch 20/100\n",
      "200/200 [==============================] - 0s 23us/step - loss: 0.0962\n",
      "Epoch 21/100\n",
      "200/200 [==============================] - 0s 25us/step - loss: 0.0834\n",
      "Epoch 22/100\n",
      "200/200 [==============================] - 0s 24us/step - loss: 0.0962\n",
      "Epoch 23/100\n",
      "200/200 [==============================] - 0s 23us/step - loss: 0.0999\n",
      "Epoch 24/100\n",
      "200/200 [==============================] - 0s 26us/step - loss: 0.0704\n",
      "Epoch 25/100\n",
      "200/200 [==============================] - 0s 25us/step - loss: 0.0691\n",
      "Epoch 26/100\n",
      "200/200 [==============================] - 0s 23us/step - loss: 0.0661\n",
      "Epoch 27/100\n",
      "200/200 [==============================] - 0s 27us/step - loss: 0.0613\n",
      "Epoch 28/100\n",
      "200/200 [==============================] - 0s 25us/step - loss: 0.0658\n",
      "Epoch 29/100\n",
      "200/200 [==============================] - 0s 25us/step - loss: 0.0659\n",
      "Epoch 30/100\n",
      "200/200 [==============================] - 0s 27us/step - loss: 0.0583\n",
      "Epoch 31/100\n",
      "200/200 [==============================] - 0s 27us/step - loss: 0.0628\n",
      "Epoch 32/100\n",
      "200/200 [==============================] - 0s 24us/step - loss: 0.0722\n",
      "Epoch 33/100\n",
      "200/200 [==============================] - 0s 29us/step - loss: 0.0794\n",
      "Epoch 34/100\n",
      "200/200 [==============================] - 0s 26us/step - loss: 0.0652\n",
      "Epoch 35/100\n",
      "200/200 [==============================] - 0s 24us/step - loss: 0.0537\n",
      "Epoch 36/100\n",
      "200/200 [==============================] - 0s 25us/step - loss: 0.0743\n",
      "Epoch 37/100\n",
      "200/200 [==============================] - 0s 28us/step - loss: 0.0637\n",
      "Epoch 38/100\n",
      "200/200 [==============================] - 0s 23us/step - loss: 0.0654\n",
      "Epoch 39/100\n",
      "200/200 [==============================] - 0s 24us/step - loss: 0.0838\n",
      "Epoch 40/100\n",
      "200/200 [==============================] - 0s 27us/step - loss: 0.0605\n",
      "Epoch 41/100\n",
      "200/200 [==============================] - 0s 24us/step - loss: 0.0688\n",
      "Epoch 42/100\n",
      "200/200 [==============================] - 0s 28us/step - loss: 0.0964\n",
      "Epoch 43/100\n",
      "200/200 [==============================] - 0s 23us/step - loss: 0.1672\n",
      "Epoch 44/100\n",
      "200/200 [==============================] - 0s 31us/step - loss: 0.1101\n",
      "Epoch 45/100\n",
      "200/200 [==============================] - 0s 24us/step - loss: 0.0919\n",
      "Epoch 46/100\n",
      "200/200 [==============================] - 0s 28us/step - loss: 0.0687\n",
      "Epoch 47/100\n",
      "200/200 [==============================] - 0s 25us/step - loss: 0.0746\n",
      "Epoch 48/100\n",
      "200/200 [==============================] - 0s 25us/step - loss: 0.0702\n",
      "Epoch 49/100\n",
      "200/200 [==============================] - 0s 30us/step - loss: 0.0643\n",
      "Epoch 50/100\n",
      "200/200 [==============================] - 0s 27us/step - loss: 0.0608\n",
      "Epoch 51/100\n",
      "200/200 [==============================] - 0s 26us/step - loss: 0.0628\n",
      "Epoch 52/100\n",
      "200/200 [==============================] - 0s 31us/step - loss: 0.0583\n",
      "Epoch 53/100\n",
      "200/200 [==============================] - 0s 25us/step - loss: 0.0577\n",
      "Epoch 54/100\n",
      "200/200 [==============================] - 0s 24us/step - loss: 0.0594\n",
      "Epoch 55/100\n",
      "200/200 [==============================] - 0s 27us/step - loss: 0.0544\n",
      "Epoch 56/100\n",
      "200/200 [==============================] - 0s 25us/step - loss: 0.0635\n",
      "Epoch 57/100\n",
      "200/200 [==============================] - 0s 23us/step - loss: 0.0674\n",
      "Epoch 58/100\n",
      "200/200 [==============================] - 0s 27us/step - loss: 0.0639\n",
      "Epoch 59/100\n",
      "200/200 [==============================] - 0s 26us/step - loss: 0.0813\n",
      "Epoch 60/100\n",
      "200/200 [==============================] - 0s 25us/step - loss: 0.1096\n",
      "Epoch 61/100\n",
      "200/200 [==============================] - 0s 27us/step - loss: 0.0655\n",
      "Epoch 62/100\n",
      "200/200 [==============================] - 0s 24us/step - loss: 0.0683\n",
      "Epoch 63/100\n",
      "200/200 [==============================] - 0s 25us/step - loss: 0.0485\n",
      "Epoch 64/100\n",
      "200/200 [==============================] - 0s 30us/step - loss: 0.0638\n",
      "Epoch 65/100\n",
      "200/200 [==============================] - 0s 24us/step - loss: 0.0911\n",
      "Epoch 66/100\n",
      "200/200 [==============================] - 0s 27us/step - loss: 0.0596\n",
      "Epoch 67/100\n",
      "200/200 [==============================] - 0s 27us/step - loss: 0.0558\n",
      "Epoch 68/100\n",
      "200/200 [==============================] - 0s 25us/step - loss: 0.0481\n",
      "Epoch 69/100\n",
      "200/200 [==============================] - 0s 31us/step - loss: 0.0585\n",
      "Epoch 70/100\n",
      "200/200 [==============================] - 0s 28us/step - loss: 0.0474\n",
      "Epoch 71/100\n",
      "200/200 [==============================] - 0s 24us/step - loss: 0.0573\n",
      "Epoch 72/100\n",
      "200/200 [==============================] - 0s 29us/step - loss: 0.0713\n",
      "Epoch 73/100\n",
      "200/200 [==============================] - 0s 24us/step - loss: 0.0685\n",
      "Epoch 74/100\n",
      "200/200 [==============================] - 0s 23us/step - loss: 0.0843\n",
      "Epoch 75/100\n",
      "200/200 [==============================] - 0s 24us/step - loss: 0.0774\n",
      "Epoch 76/100\n",
      "200/200 [==============================] - 0s 24us/step - loss: 0.0547\n",
      "Epoch 77/100\n",
      "200/200 [==============================] - 0s 25us/step - loss: 0.0565\n",
      "Epoch 78/100\n",
      "200/200 [==============================] - 0s 26us/step - loss: 0.0507\n",
      "Epoch 79/100\n",
      "200/200 [==============================] - 0s 26us/step - loss: 0.0441\n",
      "Epoch 80/100\n",
      "200/200 [==============================] - 0s 25us/step - loss: 0.0610\n",
      "Epoch 81/100\n",
      "200/200 [==============================] - 0s 25us/step - loss: 0.0416\n",
      "Epoch 82/100\n",
      "200/200 [==============================] - 0s 27us/step - loss: 0.0471\n",
      "Epoch 83/100\n",
      "200/200 [==============================] - 0s 25us/step - loss: 0.0763\n",
      "Epoch 84/100\n",
      "200/200 [==============================] - 0s 30us/step - loss: 0.0699\n",
      "Epoch 85/100\n",
      "200/200 [==============================] - 0s 27us/step - loss: 0.0745\n",
      "Epoch 86/100\n",
      "200/200 [==============================] - 0s 26us/step - loss: 0.0788\n",
      "Epoch 87/100\n",
      "200/200 [==============================] - 0s 27us/step - loss: 0.0881\n",
      "Epoch 88/100\n",
      "200/200 [==============================] - 0s 25us/step - loss: 0.0493\n",
      "Epoch 89/100\n",
      "200/200 [==============================] - 0s 27us/step - loss: 0.0440\n",
      "Epoch 90/100\n",
      "200/200 [==============================] - 0s 29us/step - loss: 0.0485\n",
      "Epoch 91/100\n",
      "200/200 [==============================] - 0s 25us/step - loss: 0.0429\n",
      "Epoch 92/100\n",
      "200/200 [==============================] - 0s 23us/step - loss: 0.0426\n",
      "Epoch 93/100\n",
      "200/200 [==============================] - 0s 28us/step - loss: 0.0427\n",
      "Epoch 94/100\n",
      "200/200 [==============================] - 0s 26us/step - loss: 0.0412\n",
      "Epoch 95/100\n",
      "200/200 [==============================] - 0s 23us/step - loss: 0.0583\n",
      "Epoch 96/100\n",
      "200/200 [==============================] - 0s 26us/step - loss: 0.0594\n",
      "Epoch 97/100\n",
      "200/200 [==============================] - 0s 30us/step - loss: 0.0524\n",
      "Epoch 98/100\n"
     ]
    },
    {
     "name": "stdout",
     "output_type": "stream",
     "text": [
      "200/200 [==============================] - 0s 30us/step - loss: 0.0452\n",
      "Epoch 99/100\n",
      "200/200 [==============================] - 0s 28us/step - loss: 0.0429\n",
      "Epoch 100/100\n",
      "200/200 [==============================] - 0s 25us/step - loss: 0.0678\n"
     ]
    }
   ],
   "source": [
    "history = model.fit(x=x, y=y, batch_size=64, epochs=100)"
   ]
  },
  {
   "cell_type": "code",
   "execution_count": 7,
   "metadata": {},
   "outputs": [
    {
     "data": {
      "text/plain": [
       "[<matplotlib.lines.Line2D at 0xb2683cf28>]"
      ]
     },
     "execution_count": 7,
     "metadata": {},
     "output_type": "execute_result"
    },
    {
     "data": {
      "image/png": "[encoded data removed]",
      "text/plain": [
       "<Figure size 432x288 with 1 Axes>"
      ]
     },
     "metadata": {},
     "output_type": "display_data"
    }
   ],
   "source": [
    "plt.plot(range(len(history.history['loss'])), history.history['loss'])"
   ]
  },
  {
   "cell_type": "code",
   "execution_count": 8,
   "metadata": {},
   "outputs": [],
   "source": [
    "preds = model.predict(x)"
   ]
  },
  {
   "cell_type": "code",
   "execution_count": 9,
   "metadata": {},
   "outputs": [
    {
     "data": {
      "image/png": "[encoded data removed]",
      "text/plain": [
       "<Figure size 432x288 with 1 Axes>"
      ]
     },
     "metadata": {},
     "output_type": "display_data"
    }
   ],
   "source": [
    "_ = plt.scatter(x, y, label='True')\n",
    "_ = plt.scatter(x, preds.squeeze(), label='Pred.')\n",
    "plt.legend();"
   ]
  }
 ],
 "metadata": {
  "kernelspec": {
   "display_name": "Python 3",
   "language": "python",
   "name": "python3"
  },
  "language_info": {
   "codemirror_mode": {
    "name": "ipython",
    "version": 3
   },
   "file_extension": ".py",
   "mimetype": "text/x-python",
   "name": "python",
   "nbconvert_exporter": "python",
   "pygments_lexer": "ipython3",
   "version": "3.6.5"
  },
  "toc": {
   "base_numbering": 1,
   "nav_menu": {},
   "number_sections": true,
   "sideBar": true,
   "skip_h1_title": false,
   "title_cell": "Table of Contents",
   "title_sidebar": "Contents",
   "toc_cell": false,
   "toc_position": {},
   "toc_section_display": true,
   "toc_window_display": false
  }
 },
 "nbformat": 4,
 "nbformat_minor": 2
}
